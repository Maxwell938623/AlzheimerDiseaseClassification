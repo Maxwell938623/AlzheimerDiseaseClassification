{
 "cells": [
  {
   "cell_type": "code",
   "execution_count": 26,
   "metadata": {},
   "outputs": [
    {
     "data": {
      "text/plain": [
       "'!pip install matplotlib\\n!pip install numpy\\n!pip install pandas\\n!pip install seaborn\\n!pip install torch\\n!pip install scikit-learn\\n!pip install torchvision\\n!pip install tqdm'"
      ]
     },
     "execution_count": 26,
     "metadata": {},
     "output_type": "execute_result"
    }
   ],
   "source": [
    "\"\"\"!pip install matplotlib\n",
    "!pip install numpy\n",
    "!pip install pandas\n",
    "!pip install seaborn\n",
    "!pip install torch\n",
    "!pip install scikit-learn\n",
    "!pip install torchvision\n",
    "!pip install tqdm\"\"\""
   ]
  },
  {
   "cell_type": "code",
   "execution_count": 27,
   "metadata": {},
   "outputs": [
    {
     "name": "stdout",
     "output_type": "stream",
     "text": [
      "privateuseone:0\n",
      "3\n"
     ]
    }
   ],
   "source": [
    "import torch\n",
    "import torch_directml\n",
    "dml = torch_directml.device()\n",
    "print(dml)\n",
    "tensor1 = torch.tensor([1]).to(dml) # Note that dml is a variable, not a string!\n",
    "tensor2 = torch.tensor([2]).to(dml)\n",
    "dml_algebra = tensor1 + tensor2\n",
    "print(dml_algebra.item())\n"
   ]
  },
  {
   "cell_type": "code",
   "execution_count": 28,
   "metadata": {
    "id": "s_LcLuH7bIzx"
   },
   "outputs": [],
   "source": [
    "import os\n",
    "from datetime import datetime\n",
    "\n",
    "import matplotlib.pyplot as plt\n",
    "import numpy as np\n",
    "import pandas as pd\n",
    "import seaborn as sn\n",
    "import torch\n",
    "import torch.nn as nn\n",
    "import torch.nn.functional as F\n",
    "from PIL import Image\n",
    "import torch.optim as optim\n",
    "from sklearn.metrics import confusion_matrix, ConfusionMatrixDisplay, classification_report\n",
    "from sklearn.metrics import f1_score\n",
    "from torchvision import datasets, transforms\n",
    "from tqdm import tqdm\n",
    "from torchvision.datasets import ImageFolder\n",
    "from sklearn.model_selection import GridSearchCV\n",
    "from torch.utils.data import Dataset, Subset\n",
    "from torch.utils.data import TensorDataset, DataLoader, ConcatDataset\n",
    "from sklearn.base import BaseEstimator, ClassifierMixin"
   ]
  },
  {
   "cell_type": "markdown",
   "metadata": {
    "id": "hcBtS1tmbayB"
   },
   "source": [
    "Hyperparameters"
   ]
  },
  {
   "cell_type": "code",
   "execution_count": 29,
   "metadata": {
    "id": "--VKWUDEbYOO"
   },
   "outputs": [],
   "source": [
    "class Hparams:\n",
    "    def __init__(self, train_batch_size=64, test_batch_size=64, learning_rate=0.001, num_epochs = 10, val_split=0.3, test_split=0.2, model_path='saved_model', dataset_path='Data'):\n",
    "        self.train_batch_size = train_batch_size\n",
    "        self.test_batch_size = test_batch_size\n",
    "        self.learning_rate = learning_rate\n",
    "        self.num_epochs = num_epochs\n",
    "        self.val_split = val_split\n",
    "        self.test_split = test_split\n",
    "        self.model_path = model_path\n",
    "        self.dataset_path = dataset_path"
   ]
  },
  {
   "cell_type": "markdown",
   "metadata": {
    "id": "YWmk5AcYbgOi"
   },
   "source": [
    "Dataset Loader"
   ]
  },
  {
   "cell_type": "code",
   "execution_count": 30,
   "metadata": {
    "id": "8FsXSF1Xbcoc"
   },
   "outputs": [],
   "source": [
    "class CustomDataset(torch.utils.data.Dataset):\n",
    "    def __init__(self, subset = None, transform=None):\n",
    "        self.subset = subset\n",
    "        self.transform = transform\n",
    "\n",
    "    def __getitem__(self, index):\n",
    "        x, y = self.subset[index]\n",
    "        if self.transform:\n",
    "            x = self.transform(x)\n",
    "            mean = torch.mean(x)\n",
    "            std = torch.std(x)\n",
    "        return x, mean, std, y\n",
    "\n",
    "    def __len__(self):\n",
    "        return len(self.subset)"
   ]
  },
  {
   "cell_type": "code",
   "execution_count": 31,
   "metadata": {
    "id": "xqIsDN5jbqTg"
   },
   "outputs": [],
   "source": [
    "def get_transforms():\n",
    "    transform = transforms.Compose([\n",
    "        transforms.Resize((248, 248)),\n",
    "        transforms.ToTensor(),\n",
    "    ])\n",
    "    return transform"
   ]
  },
  {
   "cell_type": "code",
   "execution_count": 32,
   "metadata": {},
   "outputs": [],
   "source": [
    "def get_transforms_train():\n",
    "    transform = transforms.Compose([\n",
    "        transforms.Resize((248, 248)),\n",
    "        transforms.RandomAffine(0, translate=None, scale= (0.95, 1.05), shear=None),\n",
    "        transforms.RandomHorizontalFlip(p=0.5),\n",
    "        transforms.RandomVerticalFlip(p=0.5),\n",
    "        transforms.ToTensor()\n",
    "    ])\n",
    "    return transform"
   ]
  },
  {
   "cell_type": "code",
   "execution_count": 33,
   "metadata": {
    "id": "JX_WOjNEbsZO"
   },
   "outputs": [],
   "source": [
    "def get_sample_weights(dataset, train_dataset):\n",
    "\n",
    "    # Code taken from:\n",
    "    #     https://www.maskaravivek.com/post/pytorch-weighted-random-sampler/\n",
    "    y_train_indices = train_dataset.indices\n",
    "    print(train_dataset.indices)\n",
    "    print(dataset.targets)\n",
    "    y_train = [dataset.targets[i] for i in y_train_indices]\n",
    "\n",
    "    class_sample_counts = np.array([len(np.where(y_train == t)[0]) for t in np.unique(y_train)])\n",
    "\n",
    "    weights = 1. / class_sample_counts\n",
    "    sample_weights = np.array([weights[t] for t in y_train])\n",
    "    sample_weights = torch.from_numpy(sample_weights)\n",
    "\n",
    "    return sample_weights"
   ]
  },
  {
   "cell_type": "code",
   "execution_count": 34,
   "metadata": {
    "id": "TF__YljXbvI1"
   },
   "outputs": [],
   "source": [
    "def get_data_loaders(hparams):\n",
    "    # Loading the dataset\n",
    "    dataset = datasets.ImageFolder(hparams.dataset_path,\n",
    "                                   transform=transforms.Compose([transforms.Grayscale()]))\n",
    "\n",
    "    # Splitting dataset into train, validation and test partitions.\n",
    "    proportions = [(1 - hparams.val_split - hparams.test_split), hparams.val_split, hparams.test_split]\n",
    "    lengths = [int(p * len(dataset)) for p in proportions]\n",
    "    lengths[-1] = len(dataset) - sum(lengths[:-1])\n",
    "\n",
    "    train_dataset, val_dataset, test_dataset = torch.utils.data.random_split(dataset, lengths)\n",
    "\n",
    "    print(type(train_dataset))\n",
    "\n",
    "    print(type(train_dataset[0][0]))\n",
    "\n",
    "    print(f'train size: {lengths[0]}, val size: {lengths[1]}, test size: {lengths[2]}')\n",
    "\n",
    "    data_transforms = {\n",
    "        'train': get_transforms_train(),\n",
    "        'test': get_transforms()\n",
    "    }\n",
    "\n",
    "    # Using WeightedRandomSampler to overcome unbalance problem\n",
    "    sample_weights = get_sample_weights(dataset, train_dataset)\n",
    "    train_sampler = torch.utils.data.sampler.WeightedRandomSampler(sample_weights.type('torch.DoubleTensor'), len(sample_weights))\n",
    "\n",
    "    train_dataset = CustomDataset(train_dataset, transform=data_transforms['train'])\n",
    "    val_dataset = CustomDataset(val_dataset, transform=data_transforms['test'])\n",
    "    test_dataset = CustomDataset(test_dataset, transform=data_transforms['test'])\n",
    "\n",
    "    plt.imshow(train_dataset[0][0].moveaxis(0,2), cmap='gray') \n",
    "\n",
    "    # Creating loaders\n",
    "    train_loader = torch.utils.data.DataLoader(train_dataset, batch_size=hparams.train_batch_size, sampler=train_sampler, drop_last=True)\n",
    "    val_loader = torch.utils.data.DataLoader(val_dataset, batch_size=hparams.train_batch_size, drop_last=True)\n",
    "    test_loader = torch.utils.data.DataLoader(test_dataset, batch_size=hparams.test_batch_size)\n",
    "\n",
    "    return train_loader, val_loader, test_loader"
   ]
  },
  {
   "cell_type": "code",
   "execution_count": 35,
   "metadata": {},
   "outputs": [],
   "source": [
    "from sklearn.model_selection import train_test_split\n",
    "\n",
    "def get_split_dataset_loaders(hparams):\n",
    "\n",
    "    folder_path = 'Data\\Mild Dementia'\n",
    "\n",
    "    # Get a list of all files in the folder\n",
    "    file_list = os.listdir(folder_path)\n",
    "\n",
    "    image_names = [file for file in file_list]\n",
    "\n",
    "    for i in range (len(image_names)):\n",
    "        image_names[i] = image_names[i][:-14]\n",
    "\n",
    "    uniqueID = pd.Series(image_names)\n",
    "    uniqueID = uniqueID.unique()\n",
    "\n",
    "    # Proportions you want to split into (e.g., 60% train, 20% validation, 20% test)\n",
    "    train_proportion = 1 - hparams.val_split - hparams.test_split\n",
    "    validation_proportion = hparams.val_split\n",
    "    test_proportion = hparams.test_split\n",
    "\n",
    "    # Perform the random split\n",
    "    train_ID, temp_ID = train_test_split(uniqueID, train_size=train_proportion, random_state=42)\n",
    "    validation_ID, test_ID = train_test_split(temp_ID, train_size=validation_proportion / (validation_proportion + test_proportion), random_state=42)\n",
    "\n",
    "    dataset = datasets.ImageFolder(hparams.dataset_path,\n",
    "                                   transform=transforms.Compose([transforms.Grayscale()]))\n",
    "\n",
    "    index = 0\n",
    "    location_change = [0]\n",
    "    for i in range(len(dataset)):\n",
    "        if (dataset[i][1] != index):\n",
    "            location_change.append(i)\n",
    "            index += 1\n",
    "\n",
    "    train_index = []\n",
    "    for i in range (len(train_ID)):\n",
    "        for ii in range (len(file_list)):\n",
    "            if (train_ID[i] in file_list[ii]):\n",
    "                train_index.append(ii+location_change[0])\n",
    "            \n",
    "    val_index = []\n",
    "    for i in range (len(validation_ID)):\n",
    "        for ii in range (len(file_list)):\n",
    "            if (train_ID[i] in file_list[ii]):\n",
    "                val_index.append(ii+location_change[0])\n",
    "\n",
    "    test_index = []\n",
    "    for i in range (len(test_ID)):\n",
    "        for ii in range (len(file_list)):\n",
    "            if (train_ID[i] in file_list[ii]):\n",
    "                test_index.append(ii+location_change[0])\n",
    "\n",
    "\n",
    "    folder_path = 'Data\\Regular'\n",
    "\n",
    "    # Get a list of all files in the folder\n",
    "    file_list = os.listdir(folder_path)\n",
    "\n",
    "    image_names = [file for file in file_list]\n",
    "\n",
    "    for i in range (len(image_names)):\n",
    "        image_names[i] = image_names[i][:-14]\n",
    "\n",
    "    uniqueID = pd.Series(image_names)\n",
    "    uniqueID = uniqueID.unique()\n",
    "\n",
    "    # Perform the random split\n",
    "    train_ID, temp_ID = train_test_split(uniqueID, train_size=train_proportion, random_state=42)\n",
    "    validation_ID, test_ID = train_test_split(temp_ID, train_size=validation_proportion / (validation_proportion + test_proportion), random_state=42)\n",
    "\n",
    "    for i in range (len(train_ID)):\n",
    "        for ii in range (len(file_list)):\n",
    "            if (train_ID[i] in file_list[ii]):\n",
    "                train_index.append(ii+location_change[1])\n",
    "            \n",
    "    for i in range (len(validation_ID)):\n",
    "        for ii in range (len(file_list)):\n",
    "            if (train_ID[i] in file_list[ii]):\n",
    "                val_index.append(ii+location_change[1])\n",
    "\n",
    "    for i in range (len(test_ID)):\n",
    "        for ii in range (len(file_list)):\n",
    "            if (train_ID[i] in file_list[ii]):\n",
    "                test_index.append(ii+location_change[1])\n",
    "\n",
    "\n",
    "\n",
    "\n",
    "\n",
    "    folder_path = 'Data\\Very mild Dementia'\n",
    "\n",
    "    # Get a list of all files in the folder\n",
    "    file_list = os.listdir(folder_path)\n",
    "\n",
    "    image_names = [file for file in file_list]\n",
    "\n",
    "    for i in range (len(image_names)):\n",
    "        image_names[i] = image_names[i][:-14]\n",
    "\n",
    "    uniqueID = pd.Series(image_names)\n",
    "    uniqueID = uniqueID.unique()\n",
    "\n",
    "    # Perform the random split\n",
    "    train_ID, temp_ID = train_test_split(uniqueID, train_size=train_proportion, random_state=42)\n",
    "    validation_ID, test_ID = train_test_split(temp_ID, train_size=validation_proportion / (validation_proportion + test_proportion), random_state=42)\n",
    "\n",
    "    for i in range (len(train_ID)):\n",
    "        for ii in range (len(file_list)):\n",
    "            if (train_ID[i] in file_list[ii]):\n",
    "                train_index.append(ii+location_change[2])     \n",
    "\n",
    "    for i in range (len(validation_ID)):\n",
    "        for ii in range (len(file_list)):\n",
    "            if (train_ID[i] in file_list[ii]):\n",
    "                val_index.append(ii+location_change[2])\n",
    "\n",
    "    for i in range (len(test_ID)):\n",
    "        for ii in range (len(file_list)):\n",
    "            if (train_ID[i] in file_list[ii]):\n",
    "                test_index.append(ii+location_change[2])\n",
    "\n",
    "    train_dataset = Subset(dataset, train_index)\n",
    "    val_dataset = Subset(dataset, val_index)\n",
    "    test_dataset =  Subset(dataset, test_index)\n",
    "\n",
    "    data_transforms = {\n",
    "        'train': get_transforms_train(),\n",
    "        'test': get_transforms()\n",
    "    }\n",
    "\n",
    "    # Using WeightedRandomSampler to overcome unbalance problem\n",
    "    sample_weights = get_sample_weights(dataset, train_dataset)\n",
    "    train_sampler = torch.utils.data.sampler.WeightedRandomSampler(sample_weights.type('torch.DoubleTensor'), len(sample_weights))\n",
    "\n",
    "    train_dataset = CustomDataset(train_dataset, transform=data_transforms['train'])\n",
    "    val_dataset = CustomDataset(val_dataset, transform=data_transforms['test'])\n",
    "    test_dataset = CustomDataset(test_dataset, transform=data_transforms['test'])\n",
    "\n",
    "    train_loader = torch.utils.data.DataLoader(train_dataset, batch_size=hparams.train_batch_size, sampler=train_sampler, drop_last=True)\n",
    "    val_loader = torch.utils.data.DataLoader(val_dataset, batch_size=hparams.train_batch_size, drop_last=True)\n",
    "    test_loader = torch.utils.data.DataLoader(test_dataset, batch_size=hparams.test_batch_size)\n",
    "\n",
    "    print(check_array_overlap(train_index, val_index, test_index))\n",
    "\n",
    "    return train_loader, val_loader, test_loader, train_dataset, val_dataset, test_dataset"
   ]
  },
  {
   "cell_type": "code",
   "execution_count": 36,
   "metadata": {},
   "outputs": [],
   "source": [
    "def check_array_overlap(arr1, arr2, arr3):\n",
    "    set1 = set(arr1)\n",
    "    set2 = set(arr2)\n",
    "    set3 = set(arr3)\n",
    "\n",
    "    if set1.intersection(set2) or set1.intersection(set3) or set2.intersection(set3):\n",
    "        return True\n",
    "    else:\n",
    "        return False"
   ]
  },
  {
   "cell_type": "markdown",
   "metadata": {
    "id": "S9E5SfW4cXUC"
   },
   "source": [
    "Model"
   ]
  },
  {
   "cell_type": "code",
   "execution_count": 37,
   "metadata": {
    "id": "qKy1dYhjcYtJ"
   },
   "outputs": [],
   "source": [
    "class ConvBlock(nn.Module):\n",
    "    def __init__(self, in_channel, mid_channel, out_channel, kernel= (5,5)):\n",
    "        super().__init__()\n",
    "\n",
    "        self.conv1 = nn.Conv2d(in_channel, mid_channel, kernel_size= kernel, padding = 1)\n",
    "        self.batch_norm1 = nn.BatchNorm2d(mid_channel)\n",
    "        self.relu = nn.ReLU()\n",
    "        self.conv2 = nn.Conv2d(mid_channel, out_channel, kernel_size= kernel, padding = 1)\n",
    "        self.batch_norm2 = nn.BatchNorm2d(out_channel)\n",
    "        self.pool = nn.MaxPool2d(kernel_size=2, stride=2)\n",
    "\n",
    "    def forward(self, x):\n",
    "        x = self.conv1(x)\n",
    "        x = self.relu(x)\n",
    "        x = self.batch_norm1(x)\n",
    "\n",
    "        x = self.conv2(x)\n",
    "        x = self.relu(x)\n",
    "        x = self.batch_norm2(x)\n",
    "\n",
    "        x = self.pool(x)\n",
    "\n",
    "        return x"
   ]
  },
  {
   "cell_type": "code",
   "execution_count": 38,
   "metadata": {
    "id": "UL6y4BYwdJJz"
   },
   "outputs": [],
   "source": [
    "class LinearBlock(nn.Module):\n",
    "    def __init__(self, in_channel, out_channel):\n",
    "        super().__init__()\n",
    "\n",
    "        self.fc = nn.Linear(in_channel, out_channel)\n",
    "        self.relu = nn.ReLU()\n",
    "        self.batch_norm = nn.BatchNorm1d(out_channel)\n",
    "\n",
    "    def forward(self, x):\n",
    "        x = self.fc(x)\n",
    "        x = self.relu(x)\n",
    "        x = self.batch_norm(x)\n",
    "\n",
    "        return x"
   ]
  },
  {
   "cell_type": "code",
   "execution_count": 39,
   "metadata": {},
   "outputs": [],
   "source": [
    "class LinearBlockDropout(nn.Module):\n",
    "    def __init__(self, in_channel, out_channel):\n",
    "        super().__init__()\n",
    "\n",
    "        self.fc = nn.Linear(in_channel, out_channel)\n",
    "        self.relu = nn.ReLU()\n",
    "        self.batch_norm = nn.BatchNorm1d(out_channel)\n",
    "        self.dropout = nn.Dropout(0.1)\n",
    "\n",
    "    def forward(self, x):\n",
    "        x = self.fc(x)\n",
    "        x = self.dropout(x)\n",
    "        x = self.relu(x)\n",
    "        x = self.batch_norm(x)\n",
    "\n",
    "        return x"
   ]
  },
  {
   "cell_type": "code",
   "execution_count": 40,
   "metadata": {
    "id": "mPK59l7Pd4nA"
   },
   "outputs": [],
   "source": [
    "class CNN(nn.Module):\n",
    "    def __init__(self):\n",
    "        super().__init__()\n",
    "\n",
    "        self.convblock1 = ConvBlock(1, 2, 4)\n",
    "\n",
    "        self.flatten = nn.Flatten(start_dim=1)\n",
    "\n",
    "        self.linearblock1 = LinearBlockDropout(59536, 1000)\n",
    "        self.linearblock4 = LinearBlock(1000 + 2, 3)\n",
    "\n",
    "        self.softmax = nn.Softmax(dim=1)\n",
    "\n",
    "    def forward(self, img, mean, std):\n",
    "        x = self.convblock1(img)\n",
    "\n",
    "        x = self.flatten(x)\n",
    "\n",
    "        x = self.linearblock1(x)\n",
    "\n",
    "        x = torch.concat([x, mean.unsqueeze(1), std.unsqueeze(1)], dim=-1)\n",
    "        \n",
    "        x = self.linearblock4(x)\n",
    "\n",
    "        x = self.softmax(x)\n",
    "\n",
    "        return x"
   ]
  },
  {
   "cell_type": "markdown",
   "metadata": {
    "id": "y3oNQSTheZEQ"
   },
   "source": [
    "Train and Validate Loops"
   ]
  },
  {
   "cell_type": "code",
   "execution_count": 41,
   "metadata": {
    "id": "J-VmmirpeaW3"
   },
   "outputs": [],
   "source": [
    "def train(model, train_loader, criterion, optimizer, device, epoch, num_epochs):\n",
    "    model.train()\n",
    "    train_loss = 0\n",
    "    train_correct = 0\n",
    "    batch_size = 0\n",
    "\n",
    "    targets, preds = [], []\n",
    "\n",
    "    for batch_idx, (img, mean, std, target) in train_loader:\n",
    "        img, mean, std, target = img.to(device), mean.to(device), std.to(device), target.to(device)\n",
    "        batch_size = len(img)\n",
    "\n",
    "        optimizer.zero_grad()\n",
    "        output = model(img, mean, std)\n",
    "        loss = criterion(output, target)\n",
    "        train_loss += loss.item()\n",
    "        pred = output.argmax(dim=1, keepdim=True)\n",
    "\n",
    "        targets.append(target.cpu().numpy())\n",
    "        preds.append(pred.cpu().numpy().flatten())\n",
    "\n",
    "        train_correct += pred.eq(target.view_as(pred)).sum().item()\n",
    "        loss.backward()\n",
    "        optimizer.step()\n",
    "\n",
    "        train_loader.set_description(f'Epoch [{epoch+1}/{num_epochs}]')\n",
    "        train_loader.set_postfix(loss=train_loss / ((batch_idx+1) * len(img)), accuracy=100. * train_correct / ((batch_idx+1) * len(img)))\n",
    "\n",
    "    targets = np.concatenate(targets)\n",
    "    preds = np.concatenate(preds)\n",
    "    f1 = f1_score(targets, preds, average='macro')\n",
    "\n",
    "    train_length = train_loader.total * batch_size\n",
    "    train_loss /= train_length\n",
    "    train_accuracy = 100. * train_correct / train_length\n",
    "    return train_loss, train_accuracy, f1"
   ]
  },
  {
   "cell_type": "code",
   "execution_count": 42,
   "metadata": {
    "id": "WoYOtELfejvh"
   },
   "outputs": [],
   "source": [
    "def validate(model, val_loader, criterion, device):\n",
    "    model.eval()\n",
    "    val_loss = 0\n",
    "    val_correct = 0\n",
    "    total_size = 0\n",
    "    with torch.no_grad():\n",
    "        for batch_idx, (img, mean, std, target) in enumerate(val_loader):\n",
    "            img, mean, std, target = img.to(device), mean.to(device), std.to(device), target.to(device)\n",
    "            batch_size = len(img)\n",
    "            output = model(img, mean, std)\n",
    "            loss = criterion(output, target)\n",
    "            val_loss += loss.item()\n",
    "            pred = output.argmax(dim=1, keepdim=True)\n",
    "            val_correct += pred.eq(target.view_as(pred)).sum().item()\n",
    "\n",
    "            total_size += len(img)\n",
    "    val_loss /= total_size\n",
    "    val_accuracy = 100. * val_correct / total_size\n",
    "    return val_loss, val_accuracy"
   ]
  },
  {
   "cell_type": "code",
   "execution_count": 43,
   "metadata": {
    "id": "NUp6gKkKeke7"
   },
   "outputs": [],
   "source": [
    "def predict(model, data_loader, criterion, device, eval=False):\n",
    "    model.eval()\n",
    "    pred_loss = 0\n",
    "    pred_correct = 0\n",
    "    total_size = 0\n",
    "\n",
    "    predictions = torch.IntTensor()\n",
    "    ground_truths = torch.IntTensor()\n",
    "\n",
    "    predictions, ground_truths = predictions.to(device), ground_truths.to(device)\n",
    "\n",
    "    with torch.no_grad():\n",
    "        for batch_idx, (img, mean, std, target) in enumerate(data_loader):\n",
    "            img, mean, std, target = img.to(device), mean.to(device), std.to(device), target.to(device)\n",
    "            output = model(img, mean, std)\n",
    "            loss = criterion(output, target)\n",
    "            pred_loss += loss.item()\n",
    "            pred = output.argmax(dim=1, keepdim=True)\n",
    "            pred_correct += pred.eq(target.view_as(pred)).sum().item()\n",
    "\n",
    "            predictions = torch.cat((predictions, pred), dim=0)\n",
    "            ground_truths = torch.cat((ground_truths, target), dim=0)\n",
    "\n",
    "            total_size += len(img)\n",
    "\n",
    "    pred_loss /= total_size\n",
    "    pred_accuracy = 100. * pred_correct / total_size\n",
    "\n",
    "    if eval:\n",
    "        return pred_loss, pred_accuracy, predictions.cpu().numpy(), ground_truths.cpu().numpy()\n",
    "    else:\n",
    "        return predictions.cpu().numpy(), ground_truths.cpu().numpy()"
   ]
  },
  {
   "cell_type": "code",
   "execution_count": 44,
   "metadata": {
    "id": "NQBoutrhgbhj"
   },
   "outputs": [],
   "source": [
    "def train_and_validate(model, train_loader, val_loader, test_loader, criterion, optimizer, device, num_epochs, early_stopping=None):\n",
    "    train_losses = []\n",
    "    train_accuracies = []\n",
    "    val_losses = []\n",
    "    val_accuracies = []\n",
    "\n",
    "    for epoch in range(num_epochs):\n",
    "        loop = tqdm(enumerate(train_loader), total=len(train_loader), ascii=' >=')\n",
    "        train_loss, train_accuracy, f1 = train(model, loop, criterion, optimizer, device, epoch, num_epochs)\n",
    "        train_losses.append(train_loss)\n",
    "        train_accuracies.append(train_accuracy)\n",
    "\n",
    "        val_loss, val_accuracy = validate(model, val_loader, criterion, device)\n",
    "        val_losses.append(val_loss)\n",
    "        val_accuracies.append(val_accuracy)\n",
    "\n",
    "#        predictions, labels = predict(model, val_loader, criterion, device, eval=False)\n",
    "\n",
    "#        conf_mat = confusion_matrix(labels, predictions)\n",
    "#        class_to_idx = list(train_loader.dataset.subset.dataset.class_to_idx)\n",
    "#        df_cm = pd.DataFrame(conf_mat, index = class_to_idx, columns = class_to_idx)\n",
    "#        heat_map = sn.heatmap(df_cm, annot=True, fmt='', cmap='Blues')\n",
    "#        plt.show()\n",
    "#\n",
    "#        for i in range(len(predictions)):\n",
    "#            if (predictions[i] != labels[i]):\n",
    "#                print(f'Image: {val_loader.dataset.subset.dataset.imgs[i][0]}, Predicted: {class_to_idx[int(predictions[i])]}, Actual: {class_to_idx[int(labels[i])]}')\n",
    "        \n",
    "        if early_stopping is not None:\n",
    "            early_stopping(val_accuracy)\n",
    "\n",
    "            if early_stopping.early_stop:\n",
    "                tqdm.write(f'\\t => train_f1={f1:.4f}, val_loss={val_loss:.4f}, val_acc={val_accuracy:.4f}')\n",
    "                print(f'Early stopping at Epoch {epoch+1}')\n",
    "                break\n",
    "\n",
    "        tqdm.write(f'\\t => train_f1={f1:.4f}, val_loss={val_loss:.4f}, val_acc={val_accuracy:.4f}')\n",
    "\n",
    "    return train_losses, train_accuracies, val_losses, val_accuracies"
   ]
  },
  {
   "cell_type": "markdown",
   "metadata": {
    "id": "K0BxduGagdzF"
   },
   "source": [
    "Early Stopping"
   ]
  },
  {
   "cell_type": "code",
   "execution_count": 45,
   "metadata": {
    "id": "Q-EdFYJkgcWO"
   },
   "outputs": [],
   "source": [
    "class EarlyStopping:\n",
    "    def __init__(self, patience=5, mode='max'):\n",
    "        self.counter = 0\n",
    "        self.patience = patience\n",
    "        self.early_stop = False\n",
    "        self.mode = mode\n",
    "\n",
    "        if self.mode == 'max':\n",
    "            self.ref_value = float('-inf')\n",
    "        elif self.mode == 'min':\n",
    "            self.ref_value = float('inf')\n",
    "        else:\n",
    "            raise Exception(f'Undefined mode for EarlyStopping - mode: {mode}\\n'\n",
    "                             'Available modes are [\"max\", \"min\"]')\n",
    "\n",
    "    def __call__(self, value):\n",
    "        if self.mode == 'max':\n",
    "            if value <= self.ref_value:\n",
    "                self.counter += 1\n",
    "            else:\n",
    "                self.counter = 0\n",
    "                self.ref_value = value\n",
    "        elif self.mode == 'min':\n",
    "            if value >= self.ref_value:\n",
    "                self.counter += 1\n",
    "            else:\n",
    "                self.counter = 0\n",
    "                self.ref_value = value\n",
    "\n",
    "        if self.counter == self.patience:\n",
    "            self.early_stop = True"
   ]
  },
  {
   "cell_type": "markdown",
   "metadata": {
    "id": "Q02aHJmGggnP"
   },
   "source": [
    "Visualize"
   ]
  },
  {
   "cell_type": "code",
   "execution_count": 46,
   "metadata": {
    "id": "2Cdvw21rghgu"
   },
   "outputs": [],
   "source": [
    "def plot_losses(train_losses, val_losses):\n",
    "    plt.plot(train_losses, label='Training Loss')\n",
    "    plt.plot(val_losses, label='Validation Loss')\n",
    "    plt.xlabel('Epoch')\n",
    "    plt.ylabel('Loss')\n",
    "    plt.legend()\n",
    "    plt.show()"
   ]
  },
  {
   "cell_type": "code",
   "execution_count": 47,
   "metadata": {
    "id": "1OQa36N2gi7F"
   },
   "outputs": [],
   "source": [
    "def plot_accuracies(train_accuracies, val_accuracies):\n",
    "    plt.plot(train_accuracies, label='Training Accuracy')\n",
    "    plt.plot(val_accuracies, label='Validation Accuracy')\n",
    "    plt.xlabel('Epoch')\n",
    "    plt.ylabel('Accuracy')\n",
    "    plt.legend()\n",
    "    plt.show()"
   ]
  },
  {
   "cell_type": "markdown",
   "metadata": {
    "id": "-ZBlabjZgkB5"
   },
   "source": [
    "Training and Evaluation"
   ]
  },
  {
   "cell_type": "code",
   "execution_count": 48,
   "metadata": {
    "id": "RuuEVoLygmJT"
   },
   "outputs": [
    {
     "name": "stdout",
     "output_type": "stream",
     "text": [
      "Using privateuseone:0 device.\n"
     ]
    }
   ],
   "source": [
    "device = torch.device('cuda' if torch.cuda.is_available() else 'cpu')\n",
    "device = torch_directml.device()\n",
    "print(f\"Using {device} device.\")"
   ]
  },
  {
   "cell_type": "code",
   "execution_count": 49,
   "metadata": {
    "id": "rf8Rt7S0gnYE"
   },
   "outputs": [],
   "source": [
    "hparams = Hparams()"
   ]
  },
  {
   "cell_type": "code",
   "execution_count": 50,
   "metadata": {
    "id": "jbnuuRwggooM"
   },
   "outputs": [
    {
     "ename": "KeyboardInterrupt",
     "evalue": "",
     "output_type": "error",
     "traceback": [
      "\u001b[1;31m---------------------------------------------------------------------------\u001b[0m",
      "\u001b[1;31mKeyboardInterrupt\u001b[0m                         Traceback (most recent call last)",
      "Cell \u001b[1;32mIn[50], line 1\u001b[0m\n\u001b[1;32m----> 1\u001b[0m train_loader, val_loader, test_loader, train_dataset , val_dataset , test_dataset \u001b[39m=\u001b[39m get_split_dataset_loaders(hparams)\n",
      "Cell \u001b[1;32mIn[35], line 33\u001b[0m, in \u001b[0;36mget_split_dataset_loaders\u001b[1;34m(hparams)\u001b[0m\n\u001b[0;32m     31\u001b[0m location_change \u001b[39m=\u001b[39m [\u001b[39m0\u001b[39m]\n\u001b[0;32m     32\u001b[0m \u001b[39mfor\u001b[39;00m i \u001b[39min\u001b[39;00m \u001b[39mrange\u001b[39m(\u001b[39mlen\u001b[39m(dataset)):\n\u001b[1;32m---> 33\u001b[0m     \u001b[39mif\u001b[39;00m (dataset[i][\u001b[39m1\u001b[39m] \u001b[39m!=\u001b[39m index):\n\u001b[0;32m     34\u001b[0m         location_change\u001b[39m.\u001b[39mappend(i)\n\u001b[0;32m     35\u001b[0m         index \u001b[39m+\u001b[39m\u001b[39m=\u001b[39m \u001b[39m1\u001b[39m\n",
      "File \u001b[1;32mc:\\Users\\hello\\OneDrive\\Desktop\\AlzheimerResearch\\.venv\\lib\\site-packages\\torchvision\\datasets\\folder.py:231\u001b[0m, in \u001b[0;36mDatasetFolder.__getitem__\u001b[1;34m(self, index)\u001b[0m\n\u001b[0;32m    229\u001b[0m sample \u001b[39m=\u001b[39m \u001b[39mself\u001b[39m\u001b[39m.\u001b[39mloader(path)\n\u001b[0;32m    230\u001b[0m \u001b[39mif\u001b[39;00m \u001b[39mself\u001b[39m\u001b[39m.\u001b[39mtransform \u001b[39mis\u001b[39;00m \u001b[39mnot\u001b[39;00m \u001b[39mNone\u001b[39;00m:\n\u001b[1;32m--> 231\u001b[0m     sample \u001b[39m=\u001b[39m \u001b[39mself\u001b[39;49m\u001b[39m.\u001b[39;49mtransform(sample)\n\u001b[0;32m    232\u001b[0m \u001b[39mif\u001b[39;00m \u001b[39mself\u001b[39m\u001b[39m.\u001b[39mtarget_transform \u001b[39mis\u001b[39;00m \u001b[39mnot\u001b[39;00m \u001b[39mNone\u001b[39;00m:\n\u001b[0;32m    233\u001b[0m     target \u001b[39m=\u001b[39m \u001b[39mself\u001b[39m\u001b[39m.\u001b[39mtarget_transform(target)\n",
      "File \u001b[1;32mc:\\Users\\hello\\OneDrive\\Desktop\\AlzheimerResearch\\.venv\\lib\\site-packages\\torchvision\\transforms\\transforms.py:95\u001b[0m, in \u001b[0;36mCompose.__call__\u001b[1;34m(self, img)\u001b[0m\n\u001b[0;32m     93\u001b[0m \u001b[39mdef\u001b[39;00m \u001b[39m__call__\u001b[39m(\u001b[39mself\u001b[39m, img):\n\u001b[0;32m     94\u001b[0m     \u001b[39mfor\u001b[39;00m t \u001b[39min\u001b[39;00m \u001b[39mself\u001b[39m\u001b[39m.\u001b[39mtransforms:\n\u001b[1;32m---> 95\u001b[0m         img \u001b[39m=\u001b[39m t(img)\n\u001b[0;32m     96\u001b[0m     \u001b[39mreturn\u001b[39;00m img\n",
      "File \u001b[1;32mc:\\Users\\hello\\OneDrive\\Desktop\\AlzheimerResearch\\.venv\\lib\\site-packages\\torch\\nn\\modules\\module.py:1501\u001b[0m, in \u001b[0;36mModule._call_impl\u001b[1;34m(self, *args, **kwargs)\u001b[0m\n\u001b[0;32m   1496\u001b[0m \u001b[39m# If we don't have any hooks, we want to skip the rest of the logic in\u001b[39;00m\n\u001b[0;32m   1497\u001b[0m \u001b[39m# this function, and just call forward.\u001b[39;00m\n\u001b[0;32m   1498\u001b[0m \u001b[39mif\u001b[39;00m \u001b[39mnot\u001b[39;00m (\u001b[39mself\u001b[39m\u001b[39m.\u001b[39m_backward_hooks \u001b[39mor\u001b[39;00m \u001b[39mself\u001b[39m\u001b[39m.\u001b[39m_backward_pre_hooks \u001b[39mor\u001b[39;00m \u001b[39mself\u001b[39m\u001b[39m.\u001b[39m_forward_hooks \u001b[39mor\u001b[39;00m \u001b[39mself\u001b[39m\u001b[39m.\u001b[39m_forward_pre_hooks\n\u001b[0;32m   1499\u001b[0m         \u001b[39mor\u001b[39;00m _global_backward_pre_hooks \u001b[39mor\u001b[39;00m _global_backward_hooks\n\u001b[0;32m   1500\u001b[0m         \u001b[39mor\u001b[39;00m _global_forward_hooks \u001b[39mor\u001b[39;00m _global_forward_pre_hooks):\n\u001b[1;32m-> 1501\u001b[0m     \u001b[39mreturn\u001b[39;00m forward_call(\u001b[39m*\u001b[39margs, \u001b[39m*\u001b[39m\u001b[39m*\u001b[39mkwargs)\n\u001b[0;32m   1502\u001b[0m \u001b[39m# Do not call functions when jit is used\u001b[39;00m\n\u001b[0;32m   1503\u001b[0m full_backward_hooks, non_full_backward_hooks \u001b[39m=\u001b[39m [], []\n",
      "File \u001b[1;32mc:\\Users\\hello\\OneDrive\\Desktop\\AlzheimerResearch\\.venv\\lib\\site-packages\\torchvision\\transforms\\transforms.py:1580\u001b[0m, in \u001b[0;36mGrayscale.forward\u001b[1;34m(self, img)\u001b[0m\n\u001b[0;32m   1572\u001b[0m \u001b[39mdef\u001b[39;00m \u001b[39mforward\u001b[39m(\u001b[39mself\u001b[39m, img):\n\u001b[0;32m   1573\u001b[0m \u001b[39m    \u001b[39m\u001b[39m\"\"\"\u001b[39;00m\n\u001b[0;32m   1574\u001b[0m \u001b[39m    Args:\u001b[39;00m\n\u001b[0;32m   1575\u001b[0m \u001b[39m        img (PIL Image or Tensor): Image to be converted to grayscale.\u001b[39;00m\n\u001b[1;32m   (...)\u001b[0m\n\u001b[0;32m   1578\u001b[0m \u001b[39m        PIL Image or Tensor: Grayscaled image.\u001b[39;00m\n\u001b[0;32m   1579\u001b[0m \u001b[39m    \"\"\"\u001b[39;00m\n\u001b[1;32m-> 1580\u001b[0m     \u001b[39mreturn\u001b[39;00m F\u001b[39m.\u001b[39;49mrgb_to_grayscale(img, num_output_channels\u001b[39m=\u001b[39;49m\u001b[39mself\u001b[39;49m\u001b[39m.\u001b[39;49mnum_output_channels)\n",
      "File \u001b[1;32mc:\\Users\\hello\\OneDrive\\Desktop\\AlzheimerResearch\\.venv\\lib\\site-packages\\torchvision\\transforms\\functional.py:1297\u001b[0m, in \u001b[0;36mrgb_to_grayscale\u001b[1;34m(img, num_output_channels)\u001b[0m\n\u001b[0;32m   1295\u001b[0m     _log_api_usage_once(rgb_to_grayscale)\n\u001b[0;32m   1296\u001b[0m \u001b[39mif\u001b[39;00m \u001b[39mnot\u001b[39;00m \u001b[39misinstance\u001b[39m(img, torch\u001b[39m.\u001b[39mTensor):\n\u001b[1;32m-> 1297\u001b[0m     \u001b[39mreturn\u001b[39;00m F_pil\u001b[39m.\u001b[39;49mto_grayscale(img, num_output_channels)\n\u001b[0;32m   1299\u001b[0m \u001b[39mreturn\u001b[39;00m F_t\u001b[39m.\u001b[39mrgb_to_grayscale(img, num_output_channels)\n",
      "File \u001b[1;32mc:\\Users\\hello\\OneDrive\\Desktop\\AlzheimerResearch\\.venv\\lib\\site-packages\\torchvision\\transforms\\_functional_pil.py:337\u001b[0m, in \u001b[0;36mto_grayscale\u001b[1;34m(img, num_output_channels)\u001b[0m\n\u001b[0;32m    334\u001b[0m     \u001b[39mraise\u001b[39;00m \u001b[39mTypeError\u001b[39;00m(\u001b[39mf\u001b[39m\u001b[39m\"\u001b[39m\u001b[39mimg should be PIL Image. Got \u001b[39m\u001b[39m{\u001b[39;00m\u001b[39mtype\u001b[39m(img)\u001b[39m}\u001b[39;00m\u001b[39m\"\u001b[39m)\n\u001b[0;32m    336\u001b[0m \u001b[39mif\u001b[39;00m num_output_channels \u001b[39m==\u001b[39m \u001b[39m1\u001b[39m:\n\u001b[1;32m--> 337\u001b[0m     img \u001b[39m=\u001b[39m img\u001b[39m.\u001b[39;49mconvert(\u001b[39m\"\u001b[39;49m\u001b[39mL\u001b[39;49m\u001b[39m\"\u001b[39;49m)\n\u001b[0;32m    338\u001b[0m \u001b[39melif\u001b[39;00m num_output_channels \u001b[39m==\u001b[39m \u001b[39m3\u001b[39m:\n\u001b[0;32m    339\u001b[0m     img \u001b[39m=\u001b[39m img\u001b[39m.\u001b[39mconvert(\u001b[39m\"\u001b[39m\u001b[39mL\u001b[39m\u001b[39m\"\u001b[39m)\n",
      "File \u001b[1;32mc:\\Users\\hello\\OneDrive\\Desktop\\AlzheimerResearch\\.venv\\lib\\site-packages\\PIL\\Image.py:1055\u001b[0m, in \u001b[0;36mImage.convert\u001b[1;34m(self, mode, matrix, dither, palette, colors)\u001b[0m\n\u001b[0;32m   1052\u001b[0m     dither \u001b[39m=\u001b[39m Dither\u001b[39m.\u001b[39mFLOYDSTEINBERG\n\u001b[0;32m   1054\u001b[0m \u001b[39mtry\u001b[39;00m:\n\u001b[1;32m-> 1055\u001b[0m     im \u001b[39m=\u001b[39m \u001b[39mself\u001b[39;49m\u001b[39m.\u001b[39;49mim\u001b[39m.\u001b[39;49mconvert(mode, dither)\n\u001b[0;32m   1056\u001b[0m \u001b[39mexcept\u001b[39;00m \u001b[39mValueError\u001b[39;00m:\n\u001b[0;32m   1057\u001b[0m     \u001b[39mtry\u001b[39;00m:\n\u001b[0;32m   1058\u001b[0m         \u001b[39m# normalize source image and try again\u001b[39;00m\n",
      "\u001b[1;31mKeyboardInterrupt\u001b[0m: "
     ]
    }
   ],
   "source": [
    "train_loader, val_loader, test_loader, train_dataset , val_dataset , test_dataset = get_split_dataset_loaders(hparams)"
   ]
  },
  {
   "cell_type": "code",
   "execution_count": null,
   "metadata": {
    "id": "ogRcj7hGgpuC"
   },
   "outputs": [],
   "source": [
    "early_stopping = EarlyStopping(patience=3, mode='max')"
   ]
  },
  {
   "cell_type": "markdown",
   "metadata": {
    "id": "gCBqyVEpgq9Y"
   },
   "source": [
    "Training"
   ]
  },
  {
   "cell_type": "code",
   "execution_count": null,
   "metadata": {
    "id": "trk2nAuagr8J"
   },
   "outputs": [],
   "source": [
    "model = CNN().to(device)"
   ]
  },
  {
   "cell_type": "code",
   "execution_count": null,
   "metadata": {
    "id": "_WXpE2C0gtrj"
   },
   "outputs": [],
   "source": [
    "criterion = nn.CrossEntropyLoss()\n",
    "optimizer = optim.Adam(model.parameters(), lr=hparams.learning_rate)"
   ]
  },
  {
   "cell_type": "code",
   "execution_count": null,
   "metadata": {
    "id": "RMBOCtnCguuS"
   },
   "outputs": [
    {
     "name": "stderr",
     "output_type": "stream",
     "text": [
      "Epoch [1/10]: 100%|==========| 660/660 [06:16<00:00,  1.75it/s, accuracy=76.4, loss=0.0129]\n"
     ]
    },
    {
     "name": "stdout",
     "output_type": "stream",
     "text": [
      "\t => train_f1=0.7622, val_loss=0.0121, val_acc=80.9509\n"
     ]
    },
    {
     "name": "stderr",
     "output_type": "stream",
     "text": [
      "Epoch [2/10]: 100%|==========| 660/660 [06:07<00:00,  1.80it/s, accuracy=90.7, loss=0.0106]\n"
     ]
    },
    {
     "name": "stdout",
     "output_type": "stream",
     "text": [
      "\t => train_f1=0.9072, val_loss=0.0100, val_acc=93.9468\n"
     ]
    },
    {
     "name": "stderr",
     "output_type": "stream",
     "text": [
      "Epoch [3/10]: 100%|==========| 660/660 [10:22<00:00,  1.06it/s, accuracy=90.2, loss=0.0105] \n"
     ]
    },
    {
     "name": "stdout",
     "output_type": "stream",
     "text": [
      "\t => train_f1=0.9014, val_loss=0.0098, val_acc=93.6004\n"
     ]
    },
    {
     "name": "stderr",
     "output_type": "stream",
     "text": [
      "Epoch [4/10]: 100%|==========| 660/660 [06:27<00:00,  1.70it/s, accuracy=95.9, loss=0.00954]\n"
     ]
    },
    {
     "name": "stdout",
     "output_type": "stream",
     "text": [
      "\t => train_f1=0.9584, val_loss=0.0092, val_acc=97.5401\n"
     ]
    },
    {
     "name": "stderr",
     "output_type": "stream",
     "text": [
      "Epoch [5/10]: 100%|==========| 660/660 [06:49<00:00,  1.61it/s, accuracy=95.7, loss=0.00951]\n"
     ]
    },
    {
     "name": "stdout",
     "output_type": "stream",
     "text": [
      "\t => train_f1=0.9566, val_loss=0.0094, val_acc=96.0406\n"
     ]
    },
    {
     "name": "stderr",
     "output_type": "stream",
     "text": [
      "Epoch [6/10]: 100%|==========| 660/660 [06:46<00:00,  1.62it/s, accuracy=97.2, loss=0.00922]\n"
     ]
    },
    {
     "name": "stdout",
     "output_type": "stream",
     "text": [
      "\t => train_f1=0.9719, val_loss=0.0089, val_acc=99.1420\n"
     ]
    },
    {
     "name": "stderr",
     "output_type": "stream",
     "text": [
      "Epoch [7/10]: 100%|==========| 660/660 [06:47<00:00,  1.62it/s, accuracy=97.5, loss=0.00913]\n"
     ]
    },
    {
     "name": "stdout",
     "output_type": "stream",
     "text": [
      "\t => train_f1=0.9753, val_loss=0.0090, val_acc=97.9888\n"
     ]
    },
    {
     "name": "stderr",
     "output_type": "stream",
     "text": [
      "Epoch [8/10]: 100%|==========| 660/660 [06:45<00:00,  1.63it/s, accuracy=97.1, loss=0.00918]\n"
     ]
    },
    {
     "name": "stdout",
     "output_type": "stream",
     "text": [
      "\t => train_f1=0.9708, val_loss=0.0090, val_acc=97.8550\n"
     ]
    },
    {
     "name": "stderr",
     "output_type": "stream",
     "text": [
      "Epoch [9/10]: 100%|==========| 660/660 [06:54<00:00,  1.59it/s, accuracy=98.1, loss=0.009]  \n"
     ]
    },
    {
     "name": "stdout",
     "output_type": "stream",
     "text": [
      "\t => train_f1=0.9809, val_loss=0.0090, val_acc=97.9377\n"
     ]
    },
    {
     "name": "stderr",
     "output_type": "stream",
     "text": [
      "Epoch [10/10]: 100%|==========| 660/660 [06:46<00:00,  1.62it/s, accuracy=98.1, loss=0.00899]\n"
     ]
    },
    {
     "name": "stdout",
     "output_type": "stream",
     "text": [
      "\t => train_f1=0.9806, val_loss=0.0089, val_acc=98.2879\n"
     ]
    }
   ],
   "source": [
    "train_losses, train_accuracies, val_losses, val_accuracies = train_and_validate(model,\n",
    "                                                                                train_loader,\n",
    "                                                                                val_loader,\n",
    "                                                                                test_loader,\n",
    "                                                                                criterion,\n",
    "                                                                                optimizer,\n",
    "                                                                                device,\n",
    "                                                                                num_epochs=hparams.num_epochs,\n",
    "                                                                                #early_stopping=early_stopping,\n",
    "                                                                                )"
   ]
  },
  {
   "cell_type": "code",
   "execution_count": null,
   "metadata": {
    "id": "MEG_4O8ogwL1"
   },
   "outputs": [
    {
     "data": {
      "image/png": "[encoded data removed]",
      "text/plain": [
       "<Figure size 640x480 with 1 Axes>"
      ]
     },
     "metadata": {},
     "output_type": "display_data"
    },
    {
     "data": {
      "image/png": "[encoded data removed]",
      "text/plain": [
       "<Figure size 640x480 with 1 Axes>"
      ]
     },
     "metadata": {},
     "output_type": "display_data"
    }
   ],
   "source": [
    "plot_losses(train_losses, val_losses)\n",
    "plot_accuracies(train_accuracies, val_accuracies)"
   ]
  },
  {
   "cell_type": "markdown",
   "metadata": {
    "id": "AaSeYMEtg0G7"
   },
   "source": [
    "Testing"
   ]
  },
  {
   "cell_type": "code",
   "execution_count": null,
   "metadata": {
    "id": "u_gQXMEmg1EX"
   },
   "outputs": [
    {
     "name": "stdout",
     "output_type": "stream",
     "text": [
      "Test Loss: 0.0090, Test Accuracy: 97.90%\n"
     ]
    }
   ],
   "source": [
    "test_loss, test_accuracy = validate(model, test_loader, criterion, device)\n",
    "print(f\"Test Loss: {test_loss:.4f}, Test Accuracy: {test_accuracy:.2f}%\")"
   ]
  },
  {
   "cell_type": "markdown",
   "metadata": {},
   "source": [
    "Saving Model"
   ]
  },
  {
   "cell_type": "code",
   "execution_count": null,
   "metadata": {},
   "outputs": [],
   "source": [
    "def save_model(model, hparams):\n",
    "    os.makedirs(hparams.model_path, exist_ok=True)\n",
    "\n",
    "    model_name = model.__class__.__name__ + '_' + datetime.now().strftime(\"%Y_%m_%d-%H_%M_%S\" + '.pt')\n",
    "\n",
    "    try:\n",
    "        torch.save(model.state_dict(), os.path.join(hparams.model_path, model_name))\n",
    "        return True\n",
    "    except:\n",
    "        return False"
   ]
  },
  {
   "cell_type": "code",
   "execution_count": null,
   "metadata": {
    "id": "XUPmzNIxg3z_"
   },
   "outputs": [
    {
     "data": {
      "text/plain": [
       "True"
      ]
     },
     "execution_count": 87,
     "metadata": {},
     "output_type": "execute_result"
    }
   ],
   "source": [
    "save_model(model, hparams)"
   ]
  },
  {
   "cell_type": "markdown",
   "metadata": {},
   "source": [
    "Loading the Model"
   ]
  },
  {
   "cell_type": "code",
   "execution_count": null,
   "metadata": {},
   "outputs": [],
   "source": [
    "#path_to_pt_file = \"saved_model\\CNN_2023_07_18-01_19_25.pt\"\n",
    "\n",
    "#saved_model = torch.load(path_to_pt_file)\n",
    "\n",
    "#model.load_state_dict(saved_model)"
   ]
  },
  {
   "cell_type": "markdown",
   "metadata": {
    "id": "zk_YKsApg6zM"
   },
   "source": [
    "Confusion Matrix"
   ]
  },
  {
   "cell_type": "code",
   "execution_count": null,
   "metadata": {
    "id": "O8tGvKerg78E"
   },
   "outputs": [],
   "source": [
    "predictions, labels = predict(model, test_loader, criterion, device, eval=False)"
   ]
  },
  {
   "cell_type": "code",
   "execution_count": null,
   "metadata": {
    "id": "X6uOFQYXg9pk"
   },
   "outputs": [
    {
     "name": "stdout",
     "output_type": "stream",
     "text": [
      "                    Mild Dementia  Regular  Very mild Dementia\n",
      "Mild Dementia                1209        0                  11\n",
      "Regular                        59    13331                 213\n",
      "Very mild Dementia             31       55                2659\n"
     ]
    }
   ],
   "source": [
    "conf_mat = confusion_matrix(labels, predictions)\n",
    "class_to_idx = list(train_loader.dataset.subset.dataset.class_to_idx)\n",
    "df_cm = pd.DataFrame(conf_mat, index = class_to_idx, columns = class_to_idx)\n",
    "\n",
    "print(df_cm)"
   ]
  },
  {
   "cell_type": "code",
   "execution_count": null,
   "metadata": {
    "id": "M_OeMZDNg_gY"
   },
   "outputs": [
    {
     "data": {
      "text/plain": [
       "<Axes: >"
      ]
     },
     "execution_count": 91,
     "metadata": {},
     "output_type": "execute_result"
    },
    {
     "data": {
      "image/png": "[encoded data removed]",
      "text/plain": [
       "<Figure size 640x480 with 2 Axes>"
      ]
     },
     "metadata": {},
     "output_type": "display_data"
    }
   ],
   "source": [
    "sn.heatmap(df_cm, annot=True, fmt='', cmap='Blues')"
   ]
  },
  {
   "cell_type": "markdown",
   "metadata": {
    "id": "YnZy8SoRhArB"
   },
   "source": [
    "Classification Report"
   ]
  },
  {
   "cell_type": "code",
   "execution_count": null,
   "metadata": {
    "id": "SXSplxYChCE9"
   },
   "outputs": [
    {
     "name": "stdout",
     "output_type": "stream",
     "text": [
      "                    precision    recall  f1-score   support\n",
      "\n",
      "     Mild Dementia       0.93      0.99      0.96      1220\n",
      "           Regular       1.00      0.98      0.99     13603\n",
      "Very mild Dementia       0.92      0.97      0.94      2745\n",
      "\n",
      "          accuracy                           0.98     17568\n",
      "         macro avg       0.95      0.98      0.96     17568\n",
      "      weighted avg       0.98      0.98      0.98     17568\n",
      "\n",
      "[0 0 0 ... 2 2 2]\n",
      "[[0]\n",
      " [0]\n",
      " [0]\n",
      " ...\n",
      " [2]\n",
      " [2]\n",
      " [2]]\n"
     ]
    }
   ],
   "source": [
    "print(classification_report(labels, predictions, target_names=class_to_idx))\n",
    "\n",
    "print(labels)\n",
    "print(predictions)"
   ]
  },
  {
   "cell_type": "code",
   "execution_count": null,
   "metadata": {},
   "outputs": [],
   "source": [
    "def calculate_precision():\n",
    "    precisions = []\n",
    "    for row in range(4):\n",
    "        precisions.append(df_cm[row][row] / (df_cm[0][row] + df_cm[1][row] + df_cm[2][row] + df_cm[3][row]))\n",
    "    \n",
    "    total_sum = 0\n",
    "    overall_precision = 0\n",
    "    for row in range(4):\n",
    "        row_sum = 0\n",
    "        for col in range(4):\n",
    "            row_sum += df_cm[row][col]\n",
    "        total_sum += row_sum\n",
    "        overall_precision += precisions[row] * row_sum\n",
    "    precisions.append(overall_precision / total_sum)\n",
    "    return precisions"
   ]
  },
  {
   "cell_type": "code",
   "execution_count": null,
   "metadata": {},
   "outputs": [],
   "source": [
    "def calculate_recall():\n",
    "    recalls = []\n",
    "    for col in range(4):\n",
    "        recalls.append(df_cm[col][col] / (df_cm[col][0] + df_cm[col][1] + df_cm[col][2] + df_cm[col][3]))\n",
    "    \n",
    "    total_sum = 0\n",
    "    overall_recall = 0\n",
    "    for col in range(4):\n",
    "        col_sum = 0\n",
    "        for row in range(4):\n",
    "            col_sum += df_cm[row][col]\n",
    "        total_sum += col_sum\n",
    "        overall_recall += recalls[col] * col_sum\n",
    "    recalls.append(overall_recall / total_sum)\n",
    "    return recalls"
   ]
  },
  {
   "cell_type": "code",
   "execution_count": null,
   "metadata": {},
   "outputs": [],
   "source": [
    "def calculate_f1(precisions, recalls):\n",
    "    f1_scores = []\n",
    "    for i in range(5):\n",
    "        f1_scores[i] = 2 * (precisions[i] * recalls[i]) / (precisions[i] + recalls[i])\n",
    "    return f1_scores"
   ]
  },
  {
   "cell_type": "code",
   "execution_count": null,
   "metadata": {},
   "outputs": [
    {
     "name": "stdout",
     "output_type": "stream",
     "text": [
      "\\begin{tabular}{ll}\n",
      "\\hline\n",
      " Variables   & Percentages   \\\\\n",
      "\\hline\n",
      " Variable 1  & 20\\%           \\\\\n",
      " Variable 2  & 35\\%           \\\\\n",
      " Variable 3  & 15\\%           \\\\\n",
      " Variable 4  & 10\\%           \\\\\n",
      " Variable 5  & 20\\%           \\\\\n",
      "\\hline\n",
      "\\end{tabular}\n"
     ]
    }
   ],
   "source": [
    "import pandas as pd\n",
    "from tabulate import tabulate\n",
    "\n",
    "# Data for the table\n",
    "variables = ['Variable 1', 'Variable 2', 'Variable 3', 'Variable 4', 'Variable 5']\n",
    "percentages = ['20%', '35%', '15%', '10%', '20%']\n",
    "data = {'Variables': variables, 'Percentages': percentages}\n",
    "\n",
    "# Create a pandas DataFrame from the data\n",
    "df = pd.DataFrame(data)\n",
    "\n",
    "# Convert the DataFrame to a LaTeX table\n",
    "table = tabulate(df, headers='keys', tablefmt='latex', showindex=False)\n",
    "\n",
    "# Print the LaTeX table\n",
    "print(table)"
   ]
  },
  {
   "cell_type": "code",
   "execution_count": null,
   "metadata": {},
   "outputs": [
    {
     "name": "stdout",
     "output_type": "stream",
     "text": [
      "tensor([[1],\n",
      "        [1],\n",
      "        [1],\n",
      "        [0],\n",
      "        [0],\n",
      "        [0],\n",
      "        [0],\n",
      "        [0],\n",
      "        [1],\n",
      "        [1],\n",
      "        [1],\n",
      "        [0],\n",
      "        [1],\n",
      "        [1],\n",
      "        [1],\n",
      "        [1]], device='privateuseone:0')\n"
     ]
    },
    {
     "data": {
      "text/plain": [
       "(array([[1],\n",
       "        [1],\n",
       "        [1],\n",
       "        [0],\n",
       "        [0],\n",
       "        [0],\n",
       "        [0],\n",
       "        [0],\n",
       "        [1],\n",
       "        [1],\n",
       "        [1],\n",
       "        [0],\n",
       "        [1],\n",
       "        [1],\n",
       "        [1],\n",
       "        [1]], dtype=int64),\n",
       " array([0, 0, 0, 0, 0, 0, 0, 0, 0, 0, 0, 0, 0, 0, 0, 0], dtype=int64))"
      ]
     },
     "execution_count": 97,
     "metadata": {},
     "output_type": "execute_result"
    }
   ],
   "source": [
    "def predict_testing_data(model, criterion, device, eval=False):\n",
    "\n",
    "    ood_dataset = ImageFolder(root='DataOOD', transform= transforms.Compose([transforms.Grayscale()]))\n",
    "    ood_dataset = CustomDataset(ood_dataset, transform= get_transforms())\n",
    "    ood_loader = torch.utils.data.DataLoader(ood_dataset, batch_size=hparams.test_batch_size)\n",
    "\n",
    "    model.eval()\n",
    "    pred_loss = 0\n",
    "    pred_correct = 0\n",
    "    total_size = 0\n",
    "\n",
    "    predictions = torch.IntTensor()\n",
    "    ground_truths = torch.IntTensor()\n",
    "\n",
    "    predictions, ground_truths = predictions.to(device), ground_truths.to(device)\n",
    "\n",
    "    with torch.no_grad():\n",
    "        for batch_idx, (img, mean, std, target) in enumerate(ood_loader):\n",
    "            img, mean, std, target = img.to(device), mean.to(device), std.to(device), target.to(device)\n",
    "            output = model(img, mean, std)\n",
    "            #print(output)\n",
    "            loss = criterion(output, target)\n",
    "            pred_loss += loss.item()\n",
    "            pred = output.argmax(dim=1, keepdim=True)\n",
    "            print(pred)\n",
    "            pred_correct += pred.eq(target.view_as(pred)).sum().item()\n",
    "\n",
    "            predictions = torch.cat((predictions, pred), dim=0)\n",
    "            ground_truths = torch.cat((ground_truths, target), dim=0)\n",
    "\n",
    "            total_size += len(img)\n",
    "\n",
    "    pred_loss /= total_size\n",
    "    pred_accuracy = 100. * pred_correct / total_size\n",
    "\n",
    "    if eval:\n",
    "        return pred_loss, pred_accuracy, predictions.cpu().numpy(), ground_truths.cpu().numpy()\n",
    "    else:\n",
    "        return predictions.cpu().numpy(), ground_truths.cpu().numpy()\n",
    "    \n",
    "predict_testing_data(model, criterion, device, eval=False)"
   ]
  }
 ],
 "metadata": {
  "colab": {
   "provenance": []
  },
  "kernelspec": {
   "display_name": "Python 3 (ipykernel)",
   "language": "python",
   "name": "python3"
  },
  "language_info": {
   "codemirror_mode": {
    "name": "ipython",
    "version": 3
   },
   "file_extension": ".py",
   "mimetype": "text/x-python",
   "name": "python",
   "nbconvert_exporter": "python",
   "pygments_lexer": "ipython3",
   "version": "3.10.11"
  }
 },
 "nbformat": 4,
 "nbformat_minor": 1
}
