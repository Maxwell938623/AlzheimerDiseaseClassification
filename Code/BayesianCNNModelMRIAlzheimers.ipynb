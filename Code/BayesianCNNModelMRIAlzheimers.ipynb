{
 "cells": [
  {
   "cell_type": "code",
   "execution_count": 1,
   "metadata": {},
   "outputs": [
    {
     "name": "stdout",
     "output_type": "stream",
     "text": [
      "Requirement already satisfied: matplotlib in c:\\users\\hello\\onedrive\\desktop\\alzheimerresearch\\.venv\\lib\\site-packages (3.7.2)\n",
      "Requirement already satisfied: contourpy>=1.0.1 in c:\\users\\hello\\onedrive\\desktop\\alzheimerresearch\\.venv\\lib\\site-packages (from matplotlib) (1.1.0)\n",
      "Requirement already satisfied: cycler>=0.10 in c:\\users\\hello\\onedrive\\desktop\\alzheimerresearch\\.venv\\lib\\site-packages (from matplotlib) (0.11.0)\n",
      "Requirement already satisfied: fonttools>=4.22.0 in c:\\users\\hello\\onedrive\\desktop\\alzheimerresearch\\.venv\\lib\\site-packages (from matplotlib) (4.41.0)\n",
      "Requirement already satisfied: kiwisolver>=1.0.1 in c:\\users\\hello\\onedrive\\desktop\\alzheimerresearch\\.venv\\lib\\site-packages (from matplotlib) (1.4.4)\n",
      "Requirement already satisfied: numpy>=1.20 in c:\\users\\hello\\onedrive\\desktop\\alzheimerresearch\\.venv\\lib\\site-packages (from matplotlib) (1.24.3)\n",
      "Requirement already satisfied: packaging>=20.0 in c:\\users\\hello\\onedrive\\desktop\\alzheimerresearch\\.venv\\lib\\site-packages (from matplotlib) (23.1)\n",
      "Requirement already satisfied: pillow>=6.2.0 in c:\\users\\hello\\onedrive\\desktop\\alzheimerresearch\\.venv\\lib\\site-packages (from matplotlib) (10.0.0)\n",
      "Requirement already satisfied: pyparsing<3.1,>=2.3.1 in c:\\users\\hello\\onedrive\\desktop\\alzheimerresearch\\.venv\\lib\\site-packages (from matplotlib) (3.0.9)\n",
      "Requirement already satisfied: python-dateutil>=2.7 in c:\\users\\hello\\onedrive\\desktop\\alzheimerresearch\\.venv\\lib\\site-packages (from matplotlib) (2.8.2)\n",
      "Requirement already satisfied: six>=1.5 in c:\\users\\hello\\onedrive\\desktop\\alzheimerresearch\\.venv\\lib\\site-packages (from python-dateutil>=2.7->matplotlib) (1.16.0)\n",
      "Requirement already satisfied: numpy in c:\\users\\hello\\onedrive\\desktop\\alzheimerresearch\\.venv\\lib\\site-packages (1.24.3)\n",
      "Requirement already satisfied: pandas in c:\\users\\hello\\onedrive\\desktop\\alzheimerresearch\\.venv\\lib\\site-packages (2.0.3)\n",
      "Requirement already satisfied: python-dateutil>=2.8.2 in c:\\users\\hello\\onedrive\\desktop\\alzheimerresearch\\.venv\\lib\\site-packages (from pandas) (2.8.2)\n",
      "Requirement already satisfied: pytz>=2020.1 in c:\\users\\hello\\onedrive\\desktop\\alzheimerresearch\\.venv\\lib\\site-packages (from pandas) (2023.3)\n",
      "Requirement already satisfied: tzdata>=2022.1 in c:\\users\\hello\\onedrive\\desktop\\alzheimerresearch\\.venv\\lib\\site-packages (from pandas) (2023.3)\n",
      "Requirement already satisfied: numpy>=1.21.0 in c:\\users\\hello\\onedrive\\desktop\\alzheimerresearch\\.venv\\lib\\site-packages (from pandas) (1.24.3)\n",
      "Requirement already satisfied: six>=1.5 in c:\\users\\hello\\onedrive\\desktop\\alzheimerresearch\\.venv\\lib\\site-packages (from python-dateutil>=2.8.2->pandas) (1.16.0)\n",
      "Requirement already satisfied: seaborn in c:\\users\\hello\\onedrive\\desktop\\alzheimerresearch\\.venv\\lib\\site-packages (0.12.2)\n",
      "Requirement already satisfied: numpy!=1.24.0,>=1.17 in c:\\users\\hello\\onedrive\\desktop\\alzheimerresearch\\.venv\\lib\\site-packages (from seaborn) (1.24.3)\n",
      "Requirement already satisfied: pandas>=0.25 in c:\\users\\hello\\onedrive\\desktop\\alzheimerresearch\\.venv\\lib\\site-packages (from seaborn) (2.0.3)\n",
      "Requirement already satisfied: matplotlib!=3.6.1,>=3.1 in c:\\users\\hello\\onedrive\\desktop\\alzheimerresearch\\.venv\\lib\\site-packages (from seaborn) (3.7.2)\n",
      "Requirement already satisfied: contourpy>=1.0.1 in c:\\users\\hello\\onedrive\\desktop\\alzheimerresearch\\.venv\\lib\\site-packages (from matplotlib!=3.6.1,>=3.1->seaborn) (1.1.0)\n",
      "Requirement already satisfied: cycler>=0.10 in c:\\users\\hello\\onedrive\\desktop\\alzheimerresearch\\.venv\\lib\\site-packages (from matplotlib!=3.6.1,>=3.1->seaborn) (0.11.0)\n",
      "Requirement already satisfied: fonttools>=4.22.0 in c:\\users\\hello\\onedrive\\desktop\\alzheimerresearch\\.venv\\lib\\site-packages (from matplotlib!=3.6.1,>=3.1->seaborn) (4.41.0)\n",
      "Requirement already satisfied: kiwisolver>=1.0.1 in c:\\users\\hello\\onedrive\\desktop\\alzheimerresearch\\.venv\\lib\\site-packages (from matplotlib!=3.6.1,>=3.1->seaborn) (1.4.4)\n",
      "Requirement already satisfied: packaging>=20.0 in c:\\users\\hello\\onedrive\\desktop\\alzheimerresearch\\.venv\\lib\\site-packages (from matplotlib!=3.6.1,>=3.1->seaborn) (23.1)\n",
      "Requirement already satisfied: pillow>=6.2.0 in c:\\users\\hello\\onedrive\\desktop\\alzheimerresearch\\.venv\\lib\\site-packages (from matplotlib!=3.6.1,>=3.1->seaborn) (10.0.0)\n",
      "Requirement already satisfied: pyparsing<3.1,>=2.3.1 in c:\\users\\hello\\onedrive\\desktop\\alzheimerresearch\\.venv\\lib\\site-packages (from matplotlib!=3.6.1,>=3.1->seaborn) (3.0.9)\n",
      "Requirement already satisfied: python-dateutil>=2.7 in c:\\users\\hello\\onedrive\\desktop\\alzheimerresearch\\.venv\\lib\\site-packages (from matplotlib!=3.6.1,>=3.1->seaborn) (2.8.2)\n",
      "Requirement already satisfied: pytz>=2020.1 in c:\\users\\hello\\onedrive\\desktop\\alzheimerresearch\\.venv\\lib\\site-packages (from pandas>=0.25->seaborn) (2023.3)\n",
      "Requirement already satisfied: tzdata>=2022.1 in c:\\users\\hello\\onedrive\\desktop\\alzheimerresearch\\.venv\\lib\\site-packages (from pandas>=0.25->seaborn) (2023.3)\n",
      "Requirement already satisfied: six>=1.5 in c:\\users\\hello\\onedrive\\desktop\\alzheimerresearch\\.venv\\lib\\site-packages (from python-dateutil>=2.7->matplotlib!=3.6.1,>=3.1->seaborn) (1.16.0)\n",
      "Requirement already satisfied: torch in c:\\users\\hello\\onedrive\\desktop\\alzheimerresearch\\.venv\\lib\\site-packages (2.0.0)\n",
      "Requirement already satisfied: filelock in c:\\users\\hello\\onedrive\\desktop\\alzheimerresearch\\.venv\\lib\\site-packages (from torch) (3.12.2)\n",
      "Requirement already satisfied: typing-extensions in c:\\users\\hello\\onedrive\\desktop\\alzheimerresearch\\.venv\\lib\\site-packages (from torch) (4.5.0)\n",
      "Requirement already satisfied: sympy in c:\\users\\hello\\onedrive\\desktop\\alzheimerresearch\\.venv\\lib\\site-packages (from torch) (1.12)\n",
      "Requirement already satisfied: networkx in c:\\users\\hello\\onedrive\\desktop\\alzheimerresearch\\.venv\\lib\\site-packages (from torch) (3.1)\n",
      "Requirement already satisfied: jinja2 in c:\\users\\hello\\onedrive\\desktop\\alzheimerresearch\\.venv\\lib\\site-packages (from torch) (3.1.2)\n",
      "Requirement already satisfied: MarkupSafe>=2.0 in c:\\users\\hello\\onedrive\\desktop\\alzheimerresearch\\.venv\\lib\\site-packages (from jinja2->torch) (2.1.3)\n",
      "Requirement already satisfied: mpmath>=0.19 in c:\\users\\hello\\onedrive\\desktop\\alzheimerresearch\\.venv\\lib\\site-packages (from sympy->torch) (1.3.0)\n",
      "Requirement already satisfied: scikit-learn in c:\\users\\hello\\onedrive\\desktop\\alzheimerresearch\\.venv\\lib\\site-packages (1.3.0)\n",
      "Requirement already satisfied: numpy>=1.17.3 in c:\\users\\hello\\onedrive\\desktop\\alzheimerresearch\\.venv\\lib\\site-packages (from scikit-learn) (1.24.3)\n",
      "Requirement already satisfied: scipy>=1.5.0 in c:\\users\\hello\\onedrive\\desktop\\alzheimerresearch\\.venv\\lib\\site-packages (from scikit-learn) (1.11.1)\n",
      "Requirement already satisfied: joblib>=1.1.1 in c:\\users\\hello\\onedrive\\desktop\\alzheimerresearch\\.venv\\lib\\site-packages (from scikit-learn) (1.3.1)\n",
      "Requirement already satisfied: threadpoolctl>=2.0.0 in c:\\users\\hello\\onedrive\\desktop\\alzheimerresearch\\.venv\\lib\\site-packages (from scikit-learn) (3.2.0)\n",
      "Requirement already satisfied: torchvision in c:\\users\\hello\\onedrive\\desktop\\alzheimerresearch\\.venv\\lib\\site-packages (0.15.1)\n",
      "Requirement already satisfied: numpy in c:\\users\\hello\\onedrive\\desktop\\alzheimerresearch\\.venv\\lib\\site-packages (from torchvision) (1.24.3)\n",
      "Requirement already satisfied: requests in c:\\users\\hello\\onedrive\\desktop\\alzheimerresearch\\.venv\\lib\\site-packages (from torchvision) (2.31.0)\n",
      "Requirement already satisfied: torch==2.0.0 in c:\\users\\hello\\onedrive\\desktop\\alzheimerresearch\\.venv\\lib\\site-packages (from torchvision) (2.0.0)\n",
      "Requirement already satisfied: pillow!=8.3.*,>=5.3.0 in c:\\users\\hello\\onedrive\\desktop\\alzheimerresearch\\.venv\\lib\\site-packages (from torchvision) (10.0.0)\n",
      "Requirement already satisfied: filelock in c:\\users\\hello\\onedrive\\desktop\\alzheimerresearch\\.venv\\lib\\site-packages (from torch==2.0.0->torchvision) (3.12.2)\n",
      "Requirement already satisfied: typing-extensions in c:\\users\\hello\\onedrive\\desktop\\alzheimerresearch\\.venv\\lib\\site-packages (from torch==2.0.0->torchvision) (4.5.0)\n",
      "Requirement already satisfied: sympy in c:\\users\\hello\\onedrive\\desktop\\alzheimerresearch\\.venv\\lib\\site-packages (from torch==2.0.0->torchvision) (1.12)\n",
      "Requirement already satisfied: networkx in c:\\users\\hello\\onedrive\\desktop\\alzheimerresearch\\.venv\\lib\\site-packages (from torch==2.0.0->torchvision) (3.1)\n",
      "Requirement already satisfied: jinja2 in c:\\users\\hello\\onedrive\\desktop\\alzheimerresearch\\.venv\\lib\\site-packages (from torch==2.0.0->torchvision) (3.1.2)\n",
      "Requirement already satisfied: charset-normalizer<4,>=2 in c:\\users\\hello\\onedrive\\desktop\\alzheimerresearch\\.venv\\lib\\site-packages (from requests->torchvision) (3.2.0)\n",
      "Requirement already satisfied: idna<4,>=2.5 in c:\\users\\hello\\onedrive\\desktop\\alzheimerresearch\\.venv\\lib\\site-packages (from requests->torchvision) (3.4)\n",
      "Requirement already satisfied: urllib3<3,>=1.21.1 in c:\\users\\hello\\onedrive\\desktop\\alzheimerresearch\\.venv\\lib\\site-packages (from requests->torchvision) (1.26.16)\n",
      "Requirement already satisfied: certifi>=2017.4.17 in c:\\users\\hello\\onedrive\\desktop\\alzheimerresearch\\.venv\\lib\\site-packages (from requests->torchvision) (2023.5.7)\n",
      "Requirement already satisfied: MarkupSafe>=2.0 in c:\\users\\hello\\onedrive\\desktop\\alzheimerresearch\\.venv\\lib\\site-packages (from jinja2->torch==2.0.0->torchvision) (2.1.3)\n",
      "Requirement already satisfied: mpmath>=0.19 in c:\\users\\hello\\onedrive\\desktop\\alzheimerresearch\\.venv\\lib\\site-packages (from sympy->torch==2.0.0->torchvision) (1.3.0)\n",
      "Requirement already satisfied: tqdm in c:\\users\\hello\\onedrive\\desktop\\alzheimerresearch\\.venv\\lib\\site-packages (4.65.0)\n",
      "Requirement already satisfied: colorama in c:\\users\\hello\\onedrive\\desktop\\alzheimerresearch\\.venv\\lib\\site-packages (from tqdm) (0.4.6)\n"
     ]
    }
   ],
   "source": [
    "!pip install matplotlib\n",
    "!pip install numpy\n",
    "!pip install pandas\n",
    "!pip install seaborn\n",
    "!pip install torch\n",
    "!pip install scikit-learn\n",
    "!pip install torchvision\n",
    "!pip install tqdm"
   ]
  },
  {
   "cell_type": "code",
   "execution_count": 2,
   "metadata": {},
   "outputs": [
    {
     "name": "stdout",
     "output_type": "stream",
     "text": [
      "privateuseone:0\n",
      "3\n"
     ]
    }
   ],
   "source": [
    "import torch\n",
    "import torch_directml\n",
    "dml = torch_directml.device()\n",
    "print(dml)\n",
    "tensor1 = torch.tensor([1]).to(dml) # Note that dml is a variable, not a string!\n",
    "tensor2 = torch.tensor([2]).to(dml)\n",
    "dml_algebra = tensor1 + tensor2\n",
    "print(dml_algebra.item())\n"
   ]
  },
  {
   "cell_type": "code",
   "execution_count": 3,
   "metadata": {
    "id": "s_LcLuH7bIzx"
   },
   "outputs": [],
   "source": [
    "import os\n",
    "from datetime import datetime\n",
    "\n",
    "import matplotlib.pyplot as plt\n",
    "import numpy as np\n",
    "import pandas as pd\n",
    "import seaborn as sn\n",
    "import torch\n",
    "import torch.nn as nn\n",
    "import torch.nn.functional as F\n",
    "from PIL import Image\n",
    "import torch.optim as optim\n",
    "from sklearn.metrics import confusion_matrix, ConfusionMatrixDisplay, classification_report\n",
    "from sklearn.metrics import f1_score\n",
    "from torchvision import datasets, transforms\n",
    "from tqdm import tqdm\n",
    "from torchvision.datasets import ImageFolder\n",
    "from torch.utils.data import Dataset, Subset\n",
    "from torch.utils.data import TensorDataset, DataLoader, ConcatDataset\n",
    "import math\n",
    "from sklearn.svm import OneClassSVM\n"
   ]
  },
  {
   "cell_type": "markdown",
   "metadata": {
    "id": "hcBtS1tmbayB"
   },
   "source": [
    "Hyperparameters"
   ]
  },
  {
   "cell_type": "code",
   "execution_count": 4,
   "metadata": {
    "id": "--VKWUDEbYOO"
   },
   "outputs": [],
   "source": [
    "class Hparams:\n",
    "    def __init__(self, train_batch_size=64, test_batch_size=64, learning_rate=0.001, num_epochs=10, val_split=0.2, test_split=0.2, model_path='saved_model', dataset_path='Data'):\n",
    "        self.train_batch_size = train_batch_size\n",
    "        self.test_batch_size = test_batch_size\n",
    "        self.learning_rate = learning_rate\n",
    "        self.num_epochs = num_epochs\n",
    "        self.val_split = val_split\n",
    "        self.test_split = test_split\n",
    "        self.model_path = model_path\n",
    "        self.dataset_path = dataset_path"
   ]
  },
  {
   "cell_type": "markdown",
   "metadata": {
    "id": "YWmk5AcYbgOi"
   },
   "source": [
    "Dataset Loader"
   ]
  },
  {
   "cell_type": "code",
   "execution_count": 5,
   "metadata": {
    "id": "8FsXSF1Xbcoc"
   },
   "outputs": [],
   "source": [
    "class CustomDataset(torch.utils.data.Dataset):\n",
    "    def __init__(self, subset, transform=None):\n",
    "        self.subset = subset\n",
    "        self.transform = transform\n",
    "\n",
    "    def __getitem__(self, index):\n",
    "        x, y = self.subset[index]\n",
    "        if self.transform:\n",
    "            x = self.transform(x)\n",
    "            mean = torch.mean(x)\n",
    "            std = torch.std(x)\n",
    "        return x, mean, std, y\n",
    "\n",
    "    def __len__(self):\n",
    "        return len(self.subset)"
   ]
  },
  {
   "cell_type": "code",
   "execution_count": 6,
   "metadata": {
    "id": "xqIsDN5jbqTg"
   },
   "outputs": [],
   "source": [
    "def get_transforms():\n",
    "    transform = transforms.Compose([\n",
    "        transforms.Resize((248, 248)),\n",
    "        transforms.ToTensor(),\n",
    "    ])\n",
    "    return transform"
   ]
  },
  {
   "cell_type": "code",
   "execution_count": 7,
   "metadata": {},
   "outputs": [],
   "source": [
    "def get_transforms_train():\n",
    "    transform = transforms.Compose([\n",
    "        transforms.Resize((248, 248)),\n",
    "        transforms.RandomAffine(0, translate=None, scale= (0.95, 1.05), shear=None),\n",
    "        transforms.RandomHorizontalFlip(p=0.5),\n",
    "        transforms.RandomVerticalFlip(p=0.5),\n",
    "        transforms.ToTensor()\n",
    "    ])\n",
    "    return transform"
   ]
  },
  {
   "cell_type": "code",
   "execution_count": 8,
   "metadata": {
    "id": "JX_WOjNEbsZO"
   },
   "outputs": [],
   "source": [
    "def get_sample_weights(dataset, train_dataset):\n",
    "\n",
    "    # Code taken from:\n",
    "    #     https://www.maskaravivek.com/post/pytorch-weighted-random-sampler/\n",
    "    y_train_indices = train_dataset.indices\n",
    "    y_train = [dataset.targets[i] for i in y_train_indices]\n",
    "\n",
    "    class_sample_counts = np.array([len(np.where(y_train == t)[0]) for t in np.unique(y_train)])\n",
    "\n",
    "    weights = 1. / class_sample_counts\n",
    "    sample_weights = np.array([weights[t] for t in y_train])\n",
    "    sample_weights = torch.from_numpy(sample_weights)\n",
    "\n",
    "    return sample_weights"
   ]
  },
  {
   "cell_type": "code",
   "execution_count": 9,
   "metadata": {
    "id": "TF__YljXbvI1"
   },
   "outputs": [],
   "source": [
    "def get_data_loaders(hparams):\n",
    "    # Loading the dataset\n",
    "    dataset = datasets.ImageFolder(hparams.dataset_path,\n",
    "                                   transform=transforms.Compose([transforms.Grayscale()]))\n",
    "\n",
    "    # Splitting dataset into train, validation and test partitions.\n",
    "    proportions = [(1 - hparams.val_split - hparams.test_split), hparams.val_split, hparams.test_split]\n",
    "    lengths = [int(p * len(dataset)) for p in proportions]\n",
    "    lengths[-1] = len(dataset) - sum(lengths[:-1])\n",
    "    train_dataset, val_dataset, test_dataset = torch.utils.data.random_split(dataset, lengths)\n",
    "\n",
    "    print(f'train size: {lengths[0]}, val size: {lengths[1]}, test size: {lengths[2]}')\n",
    "\n",
    "    data_transforms = {\n",
    "        'train': get_transforms(),\n",
    "        'test': get_transforms()\n",
    "    }\n",
    "\n",
    "    # Using WeightedRandomSampler to overcome unbalance problem\n",
    "    sample_weights = get_sample_weights(dataset, train_dataset)\n",
    "    train_sampler = torch.utils.data.sampler.WeightedRandomSampler(sample_weights.type('torch.DoubleTensor'), len(sample_weights))\n",
    "\n",
    "    train_dataset = CustomDataset(train_dataset, transform=data_transforms['train'])\n",
    "    val_dataset = CustomDataset(val_dataset, transform=data_transforms['test'])\n",
    "    test_dataset = CustomDataset(test_dataset, transform=data_transforms['test'])\n",
    "\n",
    "    # Creating loaders\n",
    "    train_loader = torch.utils.data.DataLoader(train_dataset, batch_size=hparams.train_batch_size, sampler=train_sampler, drop_last=True)\n",
    "    val_loader = torch.utils.data.DataLoader(val_dataset, batch_size=hparams.train_batch_size, drop_last=True)\n",
    "    test_loader = torch.utils.data.DataLoader(test_dataset, batch_size=hparams.test_batch_size)\n",
    "    \n",
    "    return train_loader, val_loader, test_loader"
   ]
  },
  {
   "cell_type": "code",
   "execution_count": 10,
   "metadata": {},
   "outputs": [],
   "source": [
    "from sklearn.model_selection import train_test_split\n",
    "\n",
    "def get_split_dataset_loaders(hparams):\n",
    "\n",
    "    folder_path = 'Data\\\\Mild Dementia'\n",
    "\n",
    "    error = 8\n",
    "\n",
    "    # Get a list of all files in the folder\n",
    "    file_list = os.listdir(folder_path)\n",
    "\n",
    "    image_names = [file for file in file_list]\n",
    "\n",
    "    for i in range (len(image_names)):\n",
    "        image_names[i] = image_names[i][:-14]\n",
    "\n",
    "    uniqueID = pd.Series(image_names)\n",
    "    uniqueID = uniqueID.unique()\n",
    "\n",
    "    # Proportions you want to split into (e.g., 60% train, 20% validation, 20% test)\n",
    "    train_proportion = 1 - hparams.val_split - hparams.test_split\n",
    "    validation_proportion = hparams.val_split\n",
    "    test_proportion = hparams.test_split\n",
    "\n",
    "    # Perform the random split\n",
    "    train_ID, temp_ID = train_test_split(uniqueID, train_size=train_proportion, random_state=42)\n",
    "    validation_ID, test_ID = train_test_split(temp_ID, train_size=validation_proportion / (validation_proportion + test_proportion), random_state=42)\n",
    "\n",
    "    dataset = datasets.ImageFolder(hparams.dataset_path,\n",
    "                                   transform=transforms.Compose([transforms.Grayscale()]))\n",
    "\n",
    "    index = 0\n",
    "    location_change = [0]\n",
    "    for i in range(len(dataset)):\n",
    "        if (dataset[i][1] != index):\n",
    "            location_change.append(i)\n",
    "            index += 1\n",
    "\n",
    "    train_index = []\n",
    "    for i in range (len(train_ID)):\n",
    "        for ii in range (len(file_list)):\n",
    "            if (train_ID[i] in file_list[ii] and (abs(int(file_list[ii][-7:-4]) - 126) <= error)):\n",
    "                train_index.append(ii+location_change[0])\n",
    "            \n",
    "    val_index = []\n",
    "    for i in range (len(validation_ID)):\n",
    "        for ii in range (len(file_list)):\n",
    "            if (validation_ID[i] in file_list[ii]  and (abs(int(file_list[ii][-7:-4]) - 126) <= error)):\n",
    "                val_index.append(ii+location_change[0])\n",
    "\n",
    "    test_index = []\n",
    "    for i in range (len(test_ID)):\n",
    "        for ii in range (len(file_list)):\n",
    "            if (test_ID[i] in file_list[ii]  and (abs(int(file_list[ii][-7:-4]) - 126) <= error)):\n",
    "                test_index.append(ii+location_change[0])\n",
    "\n",
    "\n",
    "    folder_path = 'Data\\\\Regular'\n",
    "\n",
    "    # Get a list of all files in the folder\n",
    "    file_list = os.listdir(folder_path)\n",
    "\n",
    "    image_names = [file for file in file_list]\n",
    "\n",
    "    for i in range (len(image_names)):\n",
    "        image_names[i] = image_names[i][:-14]\n",
    "\n",
    "    uniqueID = pd.Series(image_names)\n",
    "    uniqueID = uniqueID.unique()\n",
    "\n",
    "    # Perform the random split\n",
    "    train_ID, temp_ID = train_test_split(uniqueID, train_size=train_proportion, random_state=42)\n",
    "    validation_ID, test_ID = train_test_split(temp_ID, train_size=validation_proportion / (validation_proportion + test_proportion), random_state=42)\n",
    "\n",
    "    for i in range (len(train_ID)):\n",
    "        for ii in range (len(file_list)):\n",
    "            if (train_ID[i] in file_list[ii] and (abs(int(file_list[ii][-7:-4]) - 126) <= error)):\n",
    "                train_index.append(ii+location_change[1])\n",
    "            \n",
    "    for i in range (len(validation_ID)):\n",
    "        for ii in range (len(file_list)):\n",
    "            if (validation_ID[i] in file_list[ii]  and (abs(int(file_list[ii][-7:-4]) - 126) <= error)):\n",
    "                val_index.append(ii+location_change[1])\n",
    "\n",
    "    for i in range (len(test_ID)):\n",
    "        for ii in range (len(file_list)):\n",
    "            if (test_ID[i] in file_list[ii] and (abs(int(file_list[ii][-7:-4]) - 126) <= error)):\n",
    "                test_index.append(ii+location_change[1])\n",
    "\n",
    "\n",
    "    folder_path = 'Data\\\\Very mild Dementia'\n",
    "\n",
    "    # Get a list of all files in the folder\n",
    "    file_list = os.listdir(folder_path)\n",
    "\n",
    "    image_names = [file for file in file_list]\n",
    "\n",
    "    for i in range (len(image_names)):\n",
    "        image_names[i] = image_names[i][:-14]\n",
    "\n",
    "    uniqueID = pd.Series(image_names)\n",
    "    uniqueID = uniqueID.unique()\n",
    "\n",
    "    # Perform the random split\n",
    "    train_ID, temp_ID = train_test_split(uniqueID, train_size=train_proportion, random_state=42)\n",
    "    validation_ID, test_ID = train_test_split(temp_ID, train_size=validation_proportion / (validation_proportion + test_proportion), random_state=42)\n",
    "\n",
    "    for i in range (len(train_ID)):\n",
    "        for ii in range (len(file_list)):\n",
    "            if (train_ID[i] in file_list[ii] and (abs(int(file_list[ii][-7:-4]) - 126) <= error)):\n",
    "                train_index.append(ii+location_change[2])     \n",
    "\n",
    "    for i in range (len(validation_ID)):\n",
    "        for ii in range (len(file_list)):\n",
    "            if (validation_ID[i] in file_list[ii] and (abs(int(file_list[ii][-7:-4]) - 126) <= error)):\n",
    "                val_index.append(ii+location_change[2])\n",
    "\n",
    "    for i in range (len(test_ID)):\n",
    "        for ii in range (len(file_list)):\n",
    "            if (test_ID[i] in file_list[ii] and (abs(int(file_list[ii][-7:-4]) - 126) <= error)):\n",
    "                test_index.append(ii+location_change[2])\n",
    "\n",
    "    train_dataset = Subset(dataset, train_index)\n",
    "    val_dataset = Subset(dataset, val_index)\n",
    "    test_dataset =  Subset(dataset, test_index)\n",
    "\n",
    "    data_transforms = {\n",
    "        'train': get_transforms_train(),\n",
    "        'test': get_transforms()\n",
    "    }\n",
    "\n",
    "    # Using WeightedRandomSampler to overcome unbalance problem\n",
    "    sample_weights = get_sample_weights(dataset, train_dataset)\n",
    "    train_sampler = torch.utils.data.sampler.WeightedRandomSampler(sample_weights.type('torch.DoubleTensor'), len(sample_weights))\n",
    "\n",
    "    train_dataset = CustomDataset(train_dataset, transform=data_transforms['train'])\n",
    "    val_dataset = CustomDataset(val_dataset, transform=data_transforms['test'])\n",
    "    test_dataset = CustomDataset(test_dataset, transform=data_transforms['test'])\n",
    "\n",
    "    train_loader = torch.utils.data.DataLoader(train_dataset, batch_size=hparams.train_batch_size, sampler=train_sampler, drop_last=True)\n",
    "    val_loader = torch.utils.data.DataLoader(val_dataset, batch_size=hparams.train_batch_size, drop_last=True)\n",
    "    test_loader = torch.utils.data.DataLoader(test_dataset, batch_size=hparams.test_batch_size)\n",
    "\n",
    "    print(check_array_overlap(train_index, val_index, test_index))\n",
    "\n",
    "    return train_loader, val_loader, test_loader, train_dataset, val_dataset, test_dataset"
   ]
  },
  {
   "cell_type": "code",
   "execution_count": null,
   "metadata": {},
   "outputs": [],
   "source": [
    "def check_array_overlap(arr1, arr2, arr3):\n",
    "    set1 = set(arr1)\n",
    "    set2 = set(arr2)\n",
    "    set3 = set(arr3)\n",
    "    print(set1.intersection(set2))\n",
    "    print(set2.intersection(set3))\n",
    "    print(set3.intersection(set1))\n",
    "\n",
    "    if set1.intersection(set2) or set1.intersection(set3) or set2.intersection(set3):\n",
    "        return True\n",
    "    else:\n",
    "        return False"
   ]
  },
  {
   "cell_type": "markdown",
   "metadata": {
    "id": "S9E5SfW4cXUC"
   },
   "source": [
    "Model"
   ]
  },
  {
   "cell_type": "code",
   "execution_count": 11,
   "metadata": {
    "id": "qKy1dYhjcYtJ"
   },
   "outputs": [],
   "source": [
    "class ConvBlock(nn.Module):\n",
    "    def __init__(self, in_channel, mid_channel, out_channel, kernel= (5,5)):\n",
    "        super().__init__()\n",
    "\n",
    "        self.conv1 = nn.Conv2d(in_channel, mid_channel, kernel_size= kernel, padding = 1)\n",
    "        self.batch_norm1 = nn.BatchNorm2d(mid_channel)\n",
    "        self.relu = nn.ReLU()\n",
    "        self.conv2 = nn.Conv2d(mid_channel, out_channel, kernel_size= kernel, padding = 1)\n",
    "        #self.conv2 = nn.Conv2d(in_channel, out_channel, kernel_size= kernel, padding = 1)\n",
    "        self.batch_norm2 = nn.BatchNorm2d(out_channel)\n",
    "        self.pool = nn.MaxPool2d(kernel_size=2, stride=2)\n",
    "\n",
    "    def forward(self, x):\n",
    "        x = self.conv1(x)\n",
    "        x = self.relu(x)\n",
    "        x = self.batch_norm1(x)\n",
    "\n",
    "        x = self.conv2(x)\n",
    "        x = self.relu(x)\n",
    "        x = self.batch_norm2(x)\n",
    "\n",
    "        x = self.pool(x)\n",
    "\n",
    "        return x"
   ]
  },
  {
   "cell_type": "code",
   "execution_count": 12,
   "metadata": {
    "id": "UL6y4BYwdJJz"
   },
   "outputs": [],
   "source": [
    "class LinearBlock(nn.Module):\n",
    "    def __init__(self, in_channel, out_channel):\n",
    "        super().__init__()\n",
    "\n",
    "        self.fc = nn.Linear(in_channel, out_channel)\n",
    "        self.relu = nn.ReLU()\n",
    "        self.batch_norm = nn.BatchNorm1d(out_channel)\n",
    "\n",
    "    def forward(self, x):\n",
    "        x = self.fc(x)\n",
    "        x = self.relu(x)\n",
    "        x = self.batch_norm(x)\n",
    "\n",
    "        return x"
   ]
  },
  {
   "cell_type": "code",
   "execution_count": 13,
   "metadata": {},
   "outputs": [],
   "source": [
    "class LinearBlockDropout(nn.Module):\n",
    "    def __init__(self, in_channel, out_channel):\n",
    "        super().__init__()\n",
    "\n",
    "        self.fc = nn.Linear(in_channel, out_channel)\n",
    "        self.relu = nn.ReLU()\n",
    "        self.batch_norm = nn.BatchNorm1d(out_channel)\n",
    "        self.dropout = nn.Dropout(0.1)\n",
    "\n",
    "    def forward(self, x):\n",
    "        x = self.fc(x)\n",
    "        x = self.dropout(x)\n",
    "        x = self.relu(x)\n",
    "        x = self.batch_norm(x)\n",
    "\n",
    "        return x"
   ]
  },
  {
   "cell_type": "code",
   "execution_count": 14,
   "metadata": {
    "id": "mPK59l7Pd4nA"
   },
   "outputs": [],
   "source": [
    "class BayesianCNN(nn.Module):\n",
    "    def __init__(self):\n",
    "        super().__init__()\n",
    "\n",
    "        self.convblock1 = ConvBlock(1, 2, 4)\n",
    "\n",
    "        self.flatten = nn.Flatten(start_dim=1)\n",
    "\n",
    "        self.linearblock1 = LinearBlockDropout(59536, 32)\n",
    "        self.linearblock4 = LinearBlockDropout(32 + 2, 3)\n",
    "\n",
    "        self.softmax = nn.Softmax(dim=1)\n",
    "\n",
    "    def forward(self, x, mean, std, num_samples = 5):\n",
    "        predictions = torch.zeros(num_samples, x.size(0), 4).to(x.device)\n",
    "        for i in range(num_samples):\n",
    "\n",
    "            x_out = self.convblock1(x_out)\n",
    "\n",
    "            x_out = self.flatten(x_out)\n",
    "\n",
    "            x_out = self.linearblock1(x_out)\n",
    "\n",
    "            x_out = torch.concat([x_out, mean.unsqueeze(1), std.unsqueeze(1)], dim=-1)\n",
    "            \n",
    "            mu = self.linearblock4(x_out)\n",
    "\n",
    "            log_var = self.linearblock4.batch_norm.bias  # Get log variance from the last layer's bias\n",
    "            \n",
    "            x_out = self.reparameterize(mu, log_var)\n",
    "\n",
    "            predictions[i] = x_out\n",
    "            \n",
    "        return self.softmax(torch.mean(predictions, dim=0))  # Use softmax on the mean prediction\n",
    "    \n",
    "    def reparameterize(self, mu, log_var):\n",
    "        std = torch.exp(0.5 * log_var)\n",
    "        eps = torch.randn_like(std)\n",
    "        return mu + eps * std"
   ]
  },
  {
   "cell_type": "markdown",
   "metadata": {
    "id": "y3oNQSTheZEQ"
   },
   "source": [
    "Train and Validate Loops"
   ]
  },
  {
   "cell_type": "code",
   "execution_count": 15,
   "metadata": {
    "id": "J-VmmirpeaW3"
   },
   "outputs": [],
   "source": [
    "def train(model, train_loader, criterion, optimizer, device, epoch, num_epochs):\n",
    "    model.train()\n",
    "    train_loss = 0\n",
    "    train_correct = 0\n",
    "    batch_size = 0\n",
    "\n",
    "    targets, preds = [], []\n",
    "\n",
    "    for batch_idx, (img, mean, std, target) in train_loader:\n",
    "        img, mean, std, target = img.to(device), mean.to(device), std.to(device), target.to(device)\n",
    "        batch_size = len(img)\n",
    "\n",
    "        optimizer.zero_grad()\n",
    "        output = model(img, mean, std)\n",
    "        loss = criterion(output, target)\n",
    "        train_loss += loss.item()\n",
    "        pred = output.argmax(dim=1, keepdim=True)\n",
    "\n",
    "        targets.append(target.cpu().numpy())\n",
    "        preds.append(pred.cpu().numpy().flatten())\n",
    "\n",
    "        train_correct += pred.eq(target.view_as(pred)).sum().item()\n",
    "        loss.backward()\n",
    "        optimizer.step()\n",
    "\n",
    "        train_loader.set_description(f'Epoch [{epoch+1}/{num_epochs}]')\n",
    "        train_loader.set_postfix(loss=train_loss / ((batch_idx+1) * len(img)), accuracy=100. * train_correct / ((batch_idx+1) * len(img)))\n",
    "\n",
    "    targets = np.concatenate(targets)\n",
    "    preds = np.concatenate(preds)\n",
    "    f1 = f1_score(targets, preds, average='macro')\n",
    "\n",
    "    train_length = train_loader.total * batch_size\n",
    "    train_loss /= train_length\n",
    "    train_accuracy = 100. * train_correct / train_length\n",
    "    return train_loss, train_accuracy, f1"
   ]
  },
  {
   "cell_type": "code",
   "execution_count": 16,
   "metadata": {
    "id": "WoYOtELfejvh"
   },
   "outputs": [],
   "source": [
    "def validate(model, val_loader, criterion, device):\n",
    "    model.eval()\n",
    "    val_loss = 0\n",
    "    val_correct = 0\n",
    "    total_size = 0\n",
    "    with torch.no_grad():\n",
    "        for batch_idx, (img, mean, std, target) in enumerate(val_loader):\n",
    "            img, mean, std, target = img.to(device), mean.to(device), std.to(device), target.to(device)\n",
    "            batch_size = len(img)\n",
    "            output = model(img, mean, std)\n",
    "            loss = criterion(output, target)\n",
    "            val_loss += loss.item()\n",
    "            pred = output.argmax(dim=1, keepdim=True)\n",
    "            val_correct += pred.eq(target.view_as(pred)).sum().item()\n",
    "\n",
    "            total_size += len(img)\n",
    "    val_loss /= total_size\n",
    "    val_accuracy = 100. * val_correct / total_size\n",
    "    return val_loss, val_accuracy"
   ]
  },
  {
   "cell_type": "code",
   "execution_count": 17,
   "metadata": {
    "id": "NUp6gKkKeke7"
   },
   "outputs": [],
   "source": [
    "def predict(model, data_loader, criterion, device, eval=False):\n",
    "    model.eval()\n",
    "    pred_loss = 0\n",
    "    pred_correct = 0\n",
    "    total_size = 0\n",
    "\n",
    "    predictions = torch.IntTensor()\n",
    "    ground_truths = torch.IntTensor()\n",
    "\n",
    "    predictions, ground_truths = predictions.to(device), ground_truths.to(device)\n",
    "\n",
    "    with torch.no_grad():\n",
    "        for batch_idx, (img, mean, std, target) in enumerate(data_loader):\n",
    "            img, mean, std, target = img.to(device), mean.to(device), std.to(device), target.to(device)\n",
    "            output = model(img, mean, std)\n",
    "            loss = criterion(output, target)\n",
    "            pred_loss += loss.item()\n",
    "            pred = output.argmax(dim=1, keepdim=True)\n",
    "            pred_correct += pred.eq(target.view_as(pred)).sum().item()\n",
    "\n",
    "            predictions = torch.cat((predictions, pred), dim=0)\n",
    "            ground_truths = torch.cat((ground_truths, target), dim=0)\n",
    "\n",
    "            total_size += len(img)\n",
    "\n",
    "    pred_loss /= total_size\n",
    "    pred_accuracy = 100. * pred_correct / total_size\n",
    "\n",
    "    if eval:\n",
    "        return pred_loss, pred_accuracy, predictions.cpu().numpy(), ground_truths.cpu().numpy()\n",
    "    else:\n",
    "        return predictions.cpu().numpy(), ground_truths.cpu().numpy()"
   ]
  },
  {
   "cell_type": "code",
   "execution_count": 18,
   "metadata": {
    "id": "NQBoutrhgbhj"
   },
   "outputs": [],
   "source": [
    "def train_and_validate(model, train_loader, val_loader, criterion, optimizer, device, num_epochs, early_stopping=None):\n",
    "    train_losses = []\n",
    "    train_accuracies = []\n",
    "    val_losses = []\n",
    "    val_accuracies = []\n",
    "\n",
    "    for epoch in range(num_epochs):\n",
    "        loop = tqdm(enumerate(train_loader), total=len(train_loader), ascii=' >=')\n",
    "        train_loss, train_accuracy, f1 = train(model, loop, criterion, optimizer, device, epoch, num_epochs)\n",
    "        train_losses.append(train_loss)\n",
    "        train_accuracies.append(train_accuracy)\n",
    "\n",
    "        val_loss, val_accuracy = validate(model, val_loader, criterion, device)\n",
    "        val_losses.append(val_loss)\n",
    "        val_accuracies.append(val_accuracy)\n",
    "\n",
    "#        predictions, labels = predict(model, val_loader, criterion, device, eval=False)\n",
    "\n",
    "#        conf_mat = confusion_matrix(labels, predictions)\n",
    "#        class_to_idx = list(train_loader.dataset.subset.dataset.class_to_idx)\n",
    "#        df_cm = pd.DataFrame(conf_mat, index = class_to_idx, columns = class_to_idx)\n",
    "#        heat_map = sn.heatmap(df_cm, annot=True, fmt='', cmap='Blues')\n",
    "#        plt.show()\n",
    "#\n",
    "#        for i in range(len(predictions)):\n",
    "#            if (predictions[i] != labels[i]):\n",
    "#                print(f'Image: {val_loader.dataset.subset.dataset.imgs[i][0]}, Predicted: {class_to_idx[int(predictions[i])]}, Actual: {class_to_idx[int(labels[i])]}')\n",
    "        \n",
    "        if early_stopping is not None:\n",
    "            early_stopping(val_accuracy)\n",
    "\n",
    "            if early_stopping.early_stop:\n",
    "                tqdm.write(f'\\t => train_f1={f1:.4f}, val_loss={val_loss:.4f}, val_acc={val_accuracy:.4f}')\n",
    "                print(f'Early stopping at Epoch {epoch+1}')\n",
    "                break\n",
    "\n",
    "        tqdm.write(f'\\t => train_f1={f1:.4f}, val_loss={val_loss:.4f}, val_acc={val_accuracy:.4f}')\n",
    "\n",
    "    return train_losses, train_accuracies, val_losses, val_accuracies"
   ]
  },
  {
   "cell_type": "markdown",
   "metadata": {
    "id": "K0BxduGagdzF"
   },
   "source": [
    "Early Stopping"
   ]
  },
  {
   "cell_type": "code",
   "execution_count": 19,
   "metadata": {
    "id": "Q-EdFYJkgcWO"
   },
   "outputs": [],
   "source": [
    "class EarlyStopping:\n",
    "    def __init__(self, patience=5, mode='max'):\n",
    "        self.counter = 0\n",
    "        self.patience = patience\n",
    "        self.early_stop = False\n",
    "        self.mode = mode\n",
    "\n",
    "        if self.mode == 'max':\n",
    "            self.ref_value = float('-inf')\n",
    "        elif self.mode == 'min':\n",
    "            self.ref_value = float('inf')\n",
    "        else:\n",
    "            raise Exception(f'Undefined mode for EarlyStopping - mode: {mode}\\n'\n",
    "                             'Available modes are [\"max\", \"min\"]')\n",
    "\n",
    "    def __call__(self, value):\n",
    "        if self.mode == 'max':\n",
    "            if value <= self.ref_value:\n",
    "                self.counter += 1\n",
    "            else:\n",
    "                self.counter = 0\n",
    "                self.ref_value = value\n",
    "        elif self.mode == 'min':\n",
    "            if value >= self.ref_value:\n",
    "                self.counter += 1\n",
    "            else:\n",
    "                self.counter = 0\n",
    "                self.ref_value = value\n",
    "\n",
    "        if self.counter == self.patience:\n",
    "            self.early_stop = True"
   ]
  },
  {
   "cell_type": "markdown",
   "metadata": {
    "id": "Q02aHJmGggnP"
   },
   "source": [
    "Visualize"
   ]
  },
  {
   "cell_type": "code",
   "execution_count": 20,
   "metadata": {
    "id": "2Cdvw21rghgu"
   },
   "outputs": [],
   "source": [
    "def plot_losses(train_losses, val_losses):\n",
    "    plt.plot(train_losses, label='Training Loss')\n",
    "    plt.plot(val_losses, label='Validation Loss')\n",
    "    plt.xlabel('Epoch')\n",
    "    plt.ylabel('Loss')\n",
    "    plt.legend()\n",
    "    plt.show()"
   ]
  },
  {
   "cell_type": "code",
   "execution_count": 21,
   "metadata": {
    "id": "1OQa36N2gi7F"
   },
   "outputs": [],
   "source": [
    "def plot_accuracies(train_accuracies, val_accuracies):\n",
    "    plt.plot(train_accuracies, label='Training Accuracy')\n",
    "    plt.plot(val_accuracies, label='Validation Accuracy')\n",
    "    plt.xlabel('Epoch')\n",
    "    plt.ylabel('Accuracy')\n",
    "    plt.legend()\n",
    "    plt.show()"
   ]
  },
  {
   "cell_type": "markdown",
   "metadata": {
    "id": "-ZBlabjZgkB5"
   },
   "source": [
    "Training and Evaluation"
   ]
  },
  {
   "cell_type": "code",
   "execution_count": 22,
   "metadata": {
    "id": "RuuEVoLygmJT"
   },
   "outputs": [
    {
     "name": "stdout",
     "output_type": "stream",
     "text": [
      "Using privateuseone:0 device.\n"
     ]
    }
   ],
   "source": [
    "device = torch.device('cuda' if torch.cuda.is_available() else 'cpu')\n",
    "device = torch_directml.device()\n",
    "print(f\"Using {device} device.\")"
   ]
  },
  {
   "cell_type": "code",
   "execution_count": 23,
   "metadata": {
    "id": "rf8Rt7S0gnYE"
   },
   "outputs": [],
   "source": [
    "hparams = Hparams()"
   ]
  },
  {
   "cell_type": "code",
   "execution_count": 24,
   "metadata": {
    "id": "jbnuuRwggooM"
   },
   "outputs": [
    {
     "name": "stdout",
     "output_type": "stream",
     "text": [
      "train size: 42974, val size: 25784, test size: 17191\n"
     ]
    }
   ],
   "source": [
    "train_loader, val_loader, test_loader, train_dataset , val_dataset , test_dataset = get_split_dataset_loaders(hparams)"
   ]
  },
  {
   "cell_type": "code",
   "execution_count": 25,
   "metadata": {
    "id": "ogRcj7hGgpuC"
   },
   "outputs": [],
   "source": [
    "early_stopping = EarlyStopping(patience=3, mode='max')"
   ]
  },
  {
   "cell_type": "markdown",
   "metadata": {
    "id": "gCBqyVEpgq9Y"
   },
   "source": [
    "Training"
   ]
  },
  {
   "cell_type": "code",
   "execution_count": 26,
   "metadata": {
    "id": "trk2nAuagr8J"
   },
   "outputs": [],
   "source": [
    "model = BayesianCNN().to(device)"
   ]
  },
  {
   "cell_type": "code",
   "execution_count": 27,
   "metadata": {
    "id": "_WXpE2C0gtrj"
   },
   "outputs": [],
   "source": [
    "criterion = nn.CrossEntropyLoss()\n",
    "optimizer = optim.Adam(model.parameters(), lr=hparams.learning_rate)"
   ]
  },
  {
   "cell_type": "code",
   "execution_count": 28,
   "metadata": {
    "id": "RMBOCtnCguuS"
   },
   "outputs": [
    {
     "name": "stderr",
     "output_type": "stream",
     "text": [
      "  0%|          | 0/671 [00:00<?, ?it/s]"
     ]
    },
    {
     "name": "stderr",
     "output_type": "stream",
     "text": [
      "Epoch [1/10]: 100%|==========| 671/671 [36:33<00:00,  3.27s/it, accuracy=87.7, loss=0.0153]\n"
     ]
    }
   ],
   "source": [
    "train_losses, train_accuracies, val_losses, val_accuracies = train_and_validate(model, train_loader, val_loader, criterion, optimizer, device, num_epochs=hparams.num_epochs, early_stopping=early_stopping)"
   ]
  },
  {
   "cell_type": "code",
   "execution_count": null,
   "metadata": {
    "id": "MEG_4O8ogwL1"
   },
   "outputs": [
    {
     "data": {
      "image/png": "[encoded data removed]",
      "text/plain": [
       "<Figure size 640x480 with 1 Axes>"
      ]
     },
     "metadata": {},
     "output_type": "display_data"
    },
    {
     "data": {
      "image/png": "[encoded data removed]",
      "text/plain": [
       "<Figure size 640x480 with 1 Axes>"
      ]
     },
     "metadata": {},
     "output_type": "display_data"
    }
   ],
   "source": [
    "plot_losses(train_losses, val_losses)\n",
    "plot_accuracies(train_accuracies, val_accuracies)"
   ]
  },
  {
   "cell_type": "code",
   "execution_count": null,
   "metadata": {},
   "outputs": [],
   "source": [
    "def extract_features(model, data_loader):\n",
    "    model.eval()\n",
    "    all_features = []\n",
    "    with torch.no_grad():\n",
    "        for inputs, _ in data_loader:\n",
    "            inputs = inputs.cuda()\n",
    "            _, features = model(inputs)\n",
    "            all_features.append(features.cpu().numpy())\n",
    "    return np.concatenate(all_features)"
   ]
  },
  {
   "cell_type": "markdown",
   "metadata": {
    "id": "AaSeYMEtg0G7"
   },
   "source": [
    "Testing"
   ]
  },
  {
   "cell_type": "code",
   "execution_count": null,
   "metadata": {
    "id": "u_gQXMEmg1EX"
   },
   "outputs": [
    {
     "name": "stdout",
     "output_type": "stream",
     "text": [
      "Test Loss: 0.0117, Test Accuracy: 99.81%\n"
     ]
    }
   ],
   "source": [
    "test_loss, test_accuracy = validate(model, test_loader, criterion, device)\n",
    "print(f\"Test Loss: {test_loss:.4f}, Test Accuracy: {test_accuracy:.2f}%\")"
   ]
  },
  {
   "cell_type": "markdown",
   "metadata": {},
   "source": [
    "Saving Model"
   ]
  },
  {
   "cell_type": "code",
   "execution_count": null,
   "metadata": {},
   "outputs": [],
   "source": [
    "def save_model(model, hparams):\n",
    "    os.makedirs(hparams.model_path, exist_ok=True)\n",
    "\n",
    "    model_name = model.__class__.__name__ + '_' + datetime.now().strftime(\"%Y_%m_%d-%H_%M_%S\" + '.pt')\n",
    "\n",
    "    try:\n",
    "        torch.save(model.state_dict(), os.path.join(hparams.model_path, model_name))\n",
    "        return True\n",
    "    except:\n",
    "        return False"
   ]
  },
  {
   "cell_type": "code",
   "execution_count": null,
   "metadata": {
    "id": "XUPmzNIxg3z_"
   },
   "outputs": [
    {
     "data": {
      "text/plain": [
       "True"
      ]
     },
     "execution_count": 254,
     "metadata": {},
     "output_type": "execute_result"
    }
   ],
   "source": [
    "save_model(model, hparams)"
   ]
  },
  {
   "cell_type": "markdown",
   "metadata": {
    "id": "zk_YKsApg6zM"
   },
   "source": [
    "Confusion Matrix"
   ]
  },
  {
   "cell_type": "code",
   "execution_count": null,
   "metadata": {
    "id": "O8tGvKerg78E"
   },
   "outputs": [],
   "source": [
    "predictions, labels = predict(model, test_loader, criterion, device, eval=False)"
   ]
  },
  {
   "cell_type": "code",
   "execution_count": null,
   "metadata": {
    "id": "X6uOFQYXg9pk"
   },
   "outputs": [],
   "source": [
    "conf_mat = confusion_matrix(labels, predictions)\n",
    "class_to_idx = list(train_loader.dataset.subset.dataset.class_to_idx)\n",
    "df_cm = pd.DataFrame(conf_mat, index = class_to_idx, columns = class_to_idx)"
   ]
  },
  {
   "cell_type": "code",
   "execution_count": null,
   "metadata": {
    "id": "M_OeMZDNg_gY"
   },
   "outputs": [
    {
     "data": {
      "text/plain": [
       "<Axes: >"
      ]
     },
     "execution_count": 257,
     "metadata": {},
     "output_type": "execute_result"
    },
    {
     "data": {
      "image/png": "[encoded data removed]",
      "text/plain": [
       "<Figure size 640x480 with 2 Axes>"
      ]
     },
     "metadata": {},
     "output_type": "display_data"
    }
   ],
   "source": [
    "sn.heatmap(df_cm, annot=True, fmt='', cmap='Blues')"
   ]
  },
  {
   "cell_type": "markdown",
   "metadata": {
    "id": "YnZy8SoRhArB"
   },
   "source": [
    "Classification Report"
   ]
  },
  {
   "cell_type": "code",
   "execution_count": null,
   "metadata": {
    "id": "SXSplxYChCE9"
   },
   "outputs": [
    {
     "name": "stdout",
     "output_type": "stream",
     "text": [
      "                    precision    recall  f1-score   support\n",
      "\n",
      "     Mild Dementia       1.00      0.99      1.00       772\n",
      " Moderate Dementia       1.00      1.00      1.00        65\n",
      "      Non Demented       1.00      1.00      1.00     10128\n",
      "Very mild Dementia       1.00      0.99      0.99      2002\n",
      "\n",
      "          accuracy                           1.00     12967\n",
      "         macro avg       1.00      1.00      1.00     12967\n",
      "      weighted avg       1.00      1.00      1.00     12967\n",
      "\n"
     ]
    }
   ],
   "source": [
    "print(classification_report(labels, predictions, target_names=class_to_idx))"
   ]
  },
  {
   "cell_type": "markdown",
   "metadata": {},
   "source": [
    "OOD Detection"
   ]
  },
  {
   "cell_type": "code",
   "execution_count": null,
   "metadata": {},
   "outputs": [],
   "source": [
    "def ood_detection_svm(model, svm_model, data_loader):\n",
    "    model.eval()\n",
    "    all_features = []\n",
    "    with torch.no_grad():\n",
    "        for inputs, _ in data_loader:\n",
    "            inputs = inputs.cuda()\n",
    "            _, features = model(inputs)\n",
    "            all_features.append(features.cpu().numpy())\n",
    "\n",
    "    features = np.concatenate(all_features)\n",
    "    svm_predictions = svm_model.predict(features)\n",
    "    return svm_predictions"
   ]
  },
  {
   "cell_type": "code",
   "execution_count": null,
   "metadata": {},
   "outputs": [],
   "source": [
    "def calculate_confidence(probabilities):\n",
    "    return np.max(probabilities, axis=1)\n",
    "\n",
    "def calculate_entropy(probabilities):\n",
    "    return -np.sum(probabilities * np.log(probabilities), axis=1)"
   ]
  },
  {
   "cell_type": "code",
   "execution_count": null,
   "metadata": {},
   "outputs": [],
   "source": [
    "def calculate_confidence_and_entropy(model, data_loader):\n",
    "    model.eval()\n",
    "    all_confidences = []\n",
    "    all_entropies = []\n",
    "    with torch.no_grad():\n",
    "        for inputs, _ in data_loader:\n",
    "            inputs = inputs.cuda()\n",
    "            _, probabilities = model(inputs)\n",
    "            confidences = calculate_confidence(probabilities.cpu().numpy())\n",
    "            entropies = calculate_entropy(probabilities.cpu().numpy())\n",
    "            all_confidences.extend(confidences)\n",
    "            all_entropies.extend(entropies)\n",
    "    return np.array(all_confidences), np.array(all_entropies)"
   ]
  },
  {
   "cell_type": "code",
   "execution_count": null,
   "metadata": {},
   "outputs": [],
   "source": [
    "# Extract features for in-distribution test data\n",
    "in_distribution_features = extract_features(model, test_loader)\n",
    "\n",
    "# Step 7: Train One-Class SVM model for OOD detection\n",
    "\n",
    "svm_model = OneClassSVM(kernel='rbf', nu=0.1)\n",
    "svm_model.fit(in_distribution_features)"
   ]
  },
  {
   "cell_type": "code",
   "execution_count": null,
   "metadata": {},
   "outputs": [],
   "source": [
    "# Calculate confidence and uncertainty for test data\n",
    "test_confidences, test_entropies = calculate_confidence_and_entropy(model, test_loader)\n",
    "\n",
    "# Calculate confidence and uncertainty for out-of-distribution data\n",
    "ood_confidences, ood_entropies = calculate_confidence_and_entropy(model, ood_loader)\n",
    "\n",
    "# Print average confidence and uncertainty for test data\n",
    "print(f\"Average Confidence on Test Data: {np.mean(test_confidences):.4f}\")\n",
    "print(f\"Average Uncertainty on Test Data: {np.mean(test_entropies):.4f}\")\n",
    "\n",
    "# Print average confidence and uncertainty for out-of-distribution data\n",
    "print(f\"Average Confidence on Out-of-Distribution Data: {np.mean(ood_confidences):.4f}\")\n",
    "print(f\"Average Uncertainty on Out-of-Distribution Data: {np.mean(ood_entropies):.4f}\")\n",
    "\n",
    "# Step 10: Evaluate One-Class SVM on in-distribution and out-of-distribution datasets\n",
    "\n",
    "# Use One-Class SVM to predict OOD samples\n",
    "svm_in_distribution_predictions = ood_detection_svm(model, svm_model, test_loader)\n",
    "svm_ood_predictions = ood_detection_svm(model, svm_model, ood_loader)\n",
    "\n",
    "# Print the number of in-distribution and out-of-distribution samples\n",
    "print(f\"In-distribution samples: {np.sum(svm_in_distribution_predictions == 1)}\")\n",
    "print(f\"Out-of-distribution samples: {np.sum(svm_ood_predictions == -1)}\")"
   ]
  }
 ],
 "metadata": {
  "colab": {
   "provenance": []
  },
  "kernelspec": {
   "display_name": "Python 3 (ipykernel)",
   "language": "python",
   "name": "python3"
  },
  "language_info": {
   "codemirror_mode": {
    "name": "ipython",
    "version": 3
   },
   "file_extension": ".py",
   "mimetype": "text/x-python",
   "name": "python",
   "nbconvert_exporter": "python",
   "pygments_lexer": "ipython3",
   "version": "3.10.11"
  }
 },
 "nbformat": 4,
 "nbformat_minor": 1
}
