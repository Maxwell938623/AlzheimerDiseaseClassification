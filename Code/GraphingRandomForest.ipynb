{
  "nbformat": 4,
  "nbformat_minor": 0,
  "metadata": {
    "colab": {
      "provenance": []
    },
    "kernelspec": {
      "name": "python3",
      "display_name": "Python 3"
    },
    "language_info": {
      "name": "python"
    }
  },
  "cells": [
    {
      "cell_type": "code",
      "execution_count": null,
      "metadata": {
        "colab": {
          "base_uri": "https://localhost:8080/"
        },
        "id": "r1gtVjrXtiO-",
        "outputId": "fc71ce0c-bc29-4ed6-d0f8-e0e80cf10210"
      },
      "outputs": [
        {
          "output_type": "stream",
          "name": "stdout",
          "text": [
            "Requirement already satisfied: scikit-learn in /usr/local/lib/python3.10/dist-packages (1.2.2)\n",
            "Requirement already satisfied: graphviz in /usr/local/lib/python3.10/dist-packages (0.20.1)\n",
            "Requirement already satisfied: joblib in /usr/local/lib/python3.10/dist-packages (1.3.1)\n",
            "Requirement already satisfied: numpy>=1.17.3 in /usr/local/lib/python3.10/dist-packages (from scikit-learn) (1.22.4)\n",
            "Requirement already satisfied: scipy>=1.3.2 in /usr/local/lib/python3.10/dist-packages (from scikit-learn) (1.10.1)\n",
            "Requirement already satisfied: threadpoolctl>=2.0.0 in /usr/local/lib/python3.10/dist-packages (from scikit-learn) (3.2.0)\n"
          ]
        }
      ],
      "source": [
        "%pip install scikit-learn graphviz joblib\n"
      ]
    },
    {
      "cell_type": "code",
      "source": [
        "from sklearn.ensemble import RandomForestClassifier\n",
        "from sklearn.tree import export_graphviz\n",
        "import numpy\n",
        "import csv\n",
        "from sklearn.datasets import load_iris\n",
        "import graphviz\n",
        "import joblib\n",
        "\n",
        "data = []\n",
        "\n",
        "with open('output.csv', newline='') as f:\n",
        "    reader = csv.reader(f)\n",
        "    for row in reader:\n",
        "        data.append(row)\n",
        "\n",
        "data = numpy.array(data)\n",
        "\n",
        "# Load the saved random forest model from the file\n",
        "rf_model = joblib.load(\"random_forest_model0.9827586206896551.joblib\")\n",
        "\n",
        "# Pick a specific tree from the forest (e.g., the first tree)\n",
        "chosen_tree = rf_model.estimators_[0]\n",
        "\n",
        "# Create a visualization of the chosen tree\n",
        "dot_data = export_graphviz(chosen_tree, out_file=None,\n",
        "                           feature_names= (\"Non Demented\", \"Very mild Demented\", \"Mild Demented\"),\n",
        "                           class_names = (\"Non Demented\", \"Demented\"),\n",
        "                           filled=True, rounded=True, special_characters=True)\n",
        "\n",
        "graph = graphviz.Source(dot_data)\n",
        "graph.render(\"random_forest_tree\")  # Saves the tree visualization as a PDF file"
      ],
      "metadata": {
        "colab": {
          "base_uri": "https://localhost:8080/",
          "height": 35
        },
        "id": "0xKyfPYPtoJu",
        "outputId": "f0850d6c-1ccf-47d7-e1b0-a21f3b3cfcab"
      },
      "execution_count": null,
      "outputs": [
        {
          "output_type": "execute_result",
          "data": {
            "text/plain": [
              "'random_forest_tree.pdf'"
            ],
            "application/vnd.google.colaboratory.intrinsic+json": {
              "type": "string"
            }
          },
          "metadata": {},
          "execution_count": 14
        }
      ]
    }
  ]
}